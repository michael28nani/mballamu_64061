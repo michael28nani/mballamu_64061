{
  "nbformat": 4,
  "nbformat_minor": 0,
  "metadata": {
    "colab": {
      "provenance": [],
      "gpuType": "T4"
    },
    "kernelspec": {
      "name": "python3",
      "display_name": "Python 3"
    },
    "language_info": {
      "name": "python"
    },
    "accelerator": "GPU"
  },
  "cells": [
    {
      "cell_type": "code",
      "execution_count": 1,
      "metadata": {
        "colab": {
          "base_uri": "https://localhost:8080/"
        },
        "id": "Bzg1oQYXFftQ",
        "outputId": "b2efe788-de0b-4a8e-97fd-47438abd7489"
      },
      "outputs": [
        {
          "output_type": "stream",
          "name": "stdout",
          "text": [
            "Requirement already satisfied: tensorflow in /usr/local/lib/python3.10/dist-packages (2.17.0)\n",
            "Requirement already satisfied: absl-py>=1.0.0 in /usr/local/lib/python3.10/dist-packages (from tensorflow) (1.4.0)\n",
            "Requirement already satisfied: astunparse>=1.6.0 in /usr/local/lib/python3.10/dist-packages (from tensorflow) (1.6.3)\n",
            "Requirement already satisfied: flatbuffers>=24.3.25 in /usr/local/lib/python3.10/dist-packages (from tensorflow) (24.3.25)\n",
            "Requirement already satisfied: gast!=0.5.0,!=0.5.1,!=0.5.2,>=0.2.1 in /usr/local/lib/python3.10/dist-packages (from tensorflow) (0.6.0)\n",
            "Requirement already satisfied: google-pasta>=0.1.1 in /usr/local/lib/python3.10/dist-packages (from tensorflow) (0.2.0)\n",
            "Requirement already satisfied: h5py>=3.10.0 in /usr/local/lib/python3.10/dist-packages (from tensorflow) (3.12.1)\n",
            "Requirement already satisfied: libclang>=13.0.0 in /usr/local/lib/python3.10/dist-packages (from tensorflow) (18.1.1)\n",
            "Requirement already satisfied: ml-dtypes<0.5.0,>=0.3.1 in /usr/local/lib/python3.10/dist-packages (from tensorflow) (0.4.1)\n",
            "Requirement already satisfied: opt-einsum>=2.3.2 in /usr/local/lib/python3.10/dist-packages (from tensorflow) (3.4.0)\n",
            "Requirement already satisfied: packaging in /usr/local/lib/python3.10/dist-packages (from tensorflow) (24.1)\n",
            "Requirement already satisfied: protobuf!=4.21.0,!=4.21.1,!=4.21.2,!=4.21.3,!=4.21.4,!=4.21.5,<5.0.0dev,>=3.20.3 in /usr/local/lib/python3.10/dist-packages (from tensorflow) (3.20.3)\n",
            "Requirement already satisfied: requests<3,>=2.21.0 in /usr/local/lib/python3.10/dist-packages (from tensorflow) (2.32.3)\n",
            "Requirement already satisfied: setuptools in /usr/local/lib/python3.10/dist-packages (from tensorflow) (75.1.0)\n",
            "Requirement already satisfied: six>=1.12.0 in /usr/local/lib/python3.10/dist-packages (from tensorflow) (1.16.0)\n",
            "Requirement already satisfied: termcolor>=1.1.0 in /usr/local/lib/python3.10/dist-packages (from tensorflow) (2.5.0)\n",
            "Requirement already satisfied: typing-extensions>=3.6.6 in /usr/local/lib/python3.10/dist-packages (from tensorflow) (4.12.2)\n",
            "Requirement already satisfied: wrapt>=1.11.0 in /usr/local/lib/python3.10/dist-packages (from tensorflow) (1.16.0)\n",
            "Requirement already satisfied: grpcio<2.0,>=1.24.3 in /usr/local/lib/python3.10/dist-packages (from tensorflow) (1.64.1)\n",
            "Requirement already satisfied: tensorboard<2.18,>=2.17 in /usr/local/lib/python3.10/dist-packages (from tensorflow) (2.17.0)\n",
            "Requirement already satisfied: keras>=3.2.0 in /usr/local/lib/python3.10/dist-packages (from tensorflow) (3.4.1)\n",
            "Requirement already satisfied: tensorflow-io-gcs-filesystem>=0.23.1 in /usr/local/lib/python3.10/dist-packages (from tensorflow) (0.37.1)\n",
            "Requirement already satisfied: numpy<2.0.0,>=1.23.5 in /usr/local/lib/python3.10/dist-packages (from tensorflow) (1.26.4)\n",
            "Requirement already satisfied: wheel<1.0,>=0.23.0 in /usr/local/lib/python3.10/dist-packages (from astunparse>=1.6.0->tensorflow) (0.44.0)\n",
            "Requirement already satisfied: rich in /usr/local/lib/python3.10/dist-packages (from keras>=3.2.0->tensorflow) (13.9.3)\n",
            "Requirement already satisfied: namex in /usr/local/lib/python3.10/dist-packages (from keras>=3.2.0->tensorflow) (0.0.8)\n",
            "Requirement already satisfied: optree in /usr/local/lib/python3.10/dist-packages (from keras>=3.2.0->tensorflow) (0.13.0)\n",
            "Requirement already satisfied: charset-normalizer<4,>=2 in /usr/local/lib/python3.10/dist-packages (from requests<3,>=2.21.0->tensorflow) (3.4.0)\n",
            "Requirement already satisfied: idna<4,>=2.5 in /usr/local/lib/python3.10/dist-packages (from requests<3,>=2.21.0->tensorflow) (3.10)\n",
            "Requirement already satisfied: urllib3<3,>=1.21.1 in /usr/local/lib/python3.10/dist-packages (from requests<3,>=2.21.0->tensorflow) (2.2.3)\n",
            "Requirement already satisfied: certifi>=2017.4.17 in /usr/local/lib/python3.10/dist-packages (from requests<3,>=2.21.0->tensorflow) (2024.8.30)\n",
            "Requirement already satisfied: markdown>=2.6.8 in /usr/local/lib/python3.10/dist-packages (from tensorboard<2.18,>=2.17->tensorflow) (3.7)\n",
            "Requirement already satisfied: tensorboard-data-server<0.8.0,>=0.7.0 in /usr/local/lib/python3.10/dist-packages (from tensorboard<2.18,>=2.17->tensorflow) (0.7.2)\n",
            "Requirement already satisfied: werkzeug>=1.0.1 in /usr/local/lib/python3.10/dist-packages (from tensorboard<2.18,>=2.17->tensorflow) (3.0.6)\n",
            "Requirement already satisfied: MarkupSafe>=2.1.1 in /usr/local/lib/python3.10/dist-packages (from werkzeug>=1.0.1->tensorboard<2.18,>=2.17->tensorflow) (3.0.2)\n",
            "Requirement already satisfied: markdown-it-py>=2.2.0 in /usr/local/lib/python3.10/dist-packages (from rich->keras>=3.2.0->tensorflow) (3.0.0)\n",
            "Requirement already satisfied: pygments<3.0.0,>=2.13.0 in /usr/local/lib/python3.10/dist-packages (from rich->keras>=3.2.0->tensorflow) (2.18.0)\n",
            "Requirement already satisfied: mdurl~=0.1 in /usr/local/lib/python3.10/dist-packages (from markdown-it-py>=2.2.0->rich->keras>=3.2.0->tensorflow) (0.1.2)\n"
          ]
        }
      ],
      "source": [
        "pip install tensorflow\n"
      ]
    },
    {
      "cell_type": "code",
      "source": [
        "from google.colab import drive\n",
        "drive.mount('/content/drive')\n"
      ],
      "metadata": {
        "colab": {
          "base_uri": "https://localhost:8080/"
        },
        "id": "WL_tzeimpur1",
        "outputId": "0ef01261-2cfa-4f29-b455-f336f59675bd"
      },
      "execution_count": 2,
      "outputs": [
        {
          "output_type": "stream",
          "name": "stdout",
          "text": [
            "Mounted at /content/drive\n"
          ]
        }
      ]
    },
    {
      "cell_type": "code",
      "source": [
        "# Define the path to the dataset folder in Google Drive\n",
        "dataset_path = '/content/drive/My Drive/assi3/cats_and_dogs_small'\n",
        "# Set specific paths for training, validation, and test folders if they're organized separately\n",
        "train_dir = f\"{dataset_path}/train\"\n",
        "validation_dir = f\"{dataset_path}/validation\"\n",
        "test_dir = f\"{dataset_path}/test\"\n",
        "\n"
      ],
      "metadata": {
        "id": "We4vI9WlFyuc"
      },
      "execution_count": 3,
      "outputs": []
    },
    {
      "cell_type": "code",
      "source": [
        "from tensorflow.keras.preprocessing.image import ImageDataGenerator\n",
        "\n",
        "# Define data augmentation for the training set to help reduce overfitting\n",
        "train_datagen = ImageDataGenerator(\n",
        "    rescale=1.0/255,\n",
        "    rotation_range=40,\n",
        "    width_shift_range=0.2,\n",
        "    height_shift_range=0.2,\n",
        "    shear_range=0.2,\n",
        "    zoom_range=0.2,\n",
        "    horizontal_flip=True,\n",
        "    fill_mode='nearest'\n",
        ")\n",
        "\n",
        "# Only rescale the validation and test data\n",
        "val_test_datagen = ImageDataGenerator(rescale=1.0/255)\n",
        "\n",
        "# Define directories\n",
        "train_dir = '/content/drive/My Drive/assi3/cats_vs_dogs_small/train'\n",
        "validation_dir = '/content/drive/My Drive/assi3/cats_vs_dogs_small/validation'\n",
        "test_dir = '/content/drive/My Drive/assi3/cats_vs_dogs_small/test'\n",
        "\n",
        "# Set up data generators\n",
        "train_generator = train_datagen.flow_from_directory(\n",
        "    train_dir,\n",
        "    target_size=(150, 150),\n",
        "    batch_size=32,\n",
        "    class_mode='binary'\n",
        ")\n",
        "\n",
        "validation_generator = val_test_datagen.flow_from_directory(\n",
        "    validation_dir,\n",
        "    target_size=(150, 150),\n",
        "    batch_size=32,\n",
        "    class_mode='binary'\n",
        ")\n",
        "\n",
        "test_generator = val_test_datagen.flow_from_directory(\n",
        "    test_dir,\n",
        "    target_size=(150, 150),\n",
        "    batch_size=32,\n",
        "    class_mode='binary'\n",
        ")\n"
      ],
      "metadata": {
        "id": "fXg7lDrhFy_z",
        "colab": {
          "base_uri": "https://localhost:8080/"
        },
        "outputId": "53ed8c61-7021-4bb8-b40d-d76f3d6c37bf"
      },
      "execution_count": 4,
      "outputs": [
        {
          "output_type": "stream",
          "name": "stdout",
          "text": [
            "Found 2010 images belonging to 2 classes.\n",
            "Found 1000 images belonging to 2 classes.\n",
            "Found 1010 images belonging to 2 classes.\n"
          ]
        }
      ]
    },
    {
      "cell_type": "code",
      "source": [
        "from tensorflow.keras.models import Sequential\n",
        "from tensorflow.keras.layers import Conv2D, MaxPooling2D, Flatten, Dense, Dropout\n",
        "\n",
        "# Build a simple CNN model\n",
        "model = Sequential([\n",
        "    Conv2D(32, (3, 3), activation='relu', input_shape=(150, 150, 3)),\n",
        "    MaxPooling2D(2, 2),\n",
        "    Conv2D(64, (3, 3), activation='relu'),\n",
        "    MaxPooling2D(2, 2),\n",
        "    Conv2D(128, (3, 3), activation='relu'),\n",
        "    MaxPooling2D(2, 2),\n",
        "    Flatten(),\n",
        "    Dense(512, activation='relu'),\n",
        "    Dropout(0.5),\n",
        "    Dense(1, activation='sigmoid')\n",
        "])\n",
        "\n",
        "model.compile(optimizer='adam', loss='binary_crossentropy', metrics=['accuracy'])\n"
      ],
      "metadata": {
        "colab": {
          "base_uri": "https://localhost:8080/"
        },
        "id": "feJqCfQsCYYu",
        "outputId": "62156cd8-35c3-430c-adb3-2010a880289e"
      },
      "execution_count": 6,
      "outputs": [
        {
          "output_type": "stream",
          "name": "stderr",
          "text": [
            "/usr/local/lib/python3.10/dist-packages/keras/src/layers/convolutional/base_conv.py:107: UserWarning: Do not pass an `input_shape`/`input_dim` argument to a layer. When using Sequential models, prefer using an `Input(shape)` object as the first layer in the model instead.\n",
            "  super().__init__(activity_regularizer=activity_regularizer, **kwargs)\n"
          ]
        }
      ]
    },
    {
      "cell_type": "code",
      "source": [
        "history = model.fit(\n",
        "    train_generator,\n",
        "    steps_per_epoch=1000 // 32,\n",
        "    epochs=20,\n",
        "    validation_data=validation_generator,\n",
        "    validation_steps=500 // 32\n",
        ")\n"
      ],
      "metadata": {
        "colab": {
          "base_uri": "https://localhost:8080/"
        },
        "id": "mXcZBI_2D5fg",
        "outputId": "dbbdbcdc-16a8-4019-96bd-b475f9915ce8"
      },
      "execution_count": 6,
      "outputs": [
        {
          "output_type": "stream",
          "name": "stdout",
          "text": [
            "Epoch 1/20\n"
          ]
        },
        {
          "output_type": "stream",
          "name": "stderr",
          "text": [
            "/usr/local/lib/python3.10/dist-packages/keras/src/trainers/data_adapters/py_dataset_adapter.py:121: UserWarning: Your `PyDataset` class should call `super().__init__(**kwargs)` in its constructor. `**kwargs` can include `workers`, `use_multiprocessing`, `max_queue_size`. Do not pass these arguments to `fit()`, as they will be ignored.\n",
            "  self._warn_if_super_not_called()\n"
          ]
        },
        {
          "output_type": "stream",
          "name": "stdout",
          "text": [
            "\u001b[1m31/31\u001b[0m \u001b[32m━━━━━━━━━━━━━━━━━━━━\u001b[0m\u001b[37m\u001b[0m \u001b[1m260s\u001b[0m 8s/step - accuracy: 0.5015 - loss: 1.2444 - val_accuracy: 0.4854 - val_loss: 0.6969\n",
            "Epoch 2/20\n",
            "\u001b[1m31/31\u001b[0m \u001b[32m━━━━━━━━━━━━━━━━━━━━\u001b[0m\u001b[37m\u001b[0m \u001b[1m107s\u001b[0m 3s/step - accuracy: 0.4854 - loss: 0.6940 - val_accuracy: 0.4771 - val_loss: 0.6932\n",
            "Epoch 3/20\n",
            "\u001b[1m 1/31\u001b[0m \u001b[37m━━━━━━━━━━━━━━━━━━━━\u001b[0m \u001b[1m47s\u001b[0m 2s/step - accuracy: 0.5625 - loss: 0.6930"
          ]
        },
        {
          "output_type": "stream",
          "name": "stderr",
          "text": [
            "/usr/lib/python3.10/contextlib.py:153: UserWarning: Your input ran out of data; interrupting training. Make sure that your dataset or generator can generate at least `steps_per_epoch * epochs` batches. You may need to use the `.repeat()` function when building your dataset.\n",
            "  self.gen.throw(typ, value, traceback)\n"
          ]
        },
        {
          "output_type": "stream",
          "name": "stdout",
          "text": [
            "\b\b\b\b\b\b\b\b\b\b\b\b\b\b\b\b\b\b\b\b\b\b\b\b\b\b\b\b\b\b\b\b\b\b\b\b\b\b\b\b\b\b\b\b\b\b\b\b\b\b\b\b\b\b\b\b\b\b\b\b\b\b\b\b\b\b\b\b\b\b\b\b\r\u001b[1m31/31\u001b[0m \u001b[32m━━━━━━━━━━━━━━━━━━━━\u001b[0m\u001b[37m\u001b[0m \u001b[1m3s\u001b[0m 30ms/step - accuracy: 0.5625 - loss: 0.6930 - val_accuracy: 0.5250 - val_loss: 0.6930\n",
            "Epoch 4/20\n",
            "\u001b[1m31/31\u001b[0m \u001b[32m━━━━━━━━━━━━━━━━━━━━\u001b[0m\u001b[37m\u001b[0m \u001b[1m111s\u001b[0m 3s/step - accuracy: 0.4955 - loss: 0.6932 - val_accuracy: 0.4938 - val_loss: 0.6931\n",
            "Epoch 5/20\n",
            "\u001b[1m31/31\u001b[0m \u001b[32m━━━━━━━━━━━━━━━━━━━━\u001b[0m\u001b[37m\u001b[0m \u001b[1m78s\u001b[0m 3s/step - accuracy: 0.4842 - loss: 0.6933 - val_accuracy: 0.5146 - val_loss: 0.6930\n",
            "Epoch 6/20\n",
            "\u001b[1m31/31\u001b[0m \u001b[32m━━━━━━━━━━━━━━━━━━━━\u001b[0m\u001b[37m\u001b[0m \u001b[1m32s\u001b[0m 1s/step - accuracy: 0.5312 - loss: 0.6932 - val_accuracy: 0.3750 - val_loss: 0.6937\n",
            "Epoch 7/20\n",
            "\u001b[1m31/31\u001b[0m \u001b[32m━━━━━━━━━━━━━━━━━━━━\u001b[0m\u001b[37m\u001b[0m \u001b[1m81s\u001b[0m 2s/step - accuracy: 0.5006 - loss: 0.6931 - val_accuracy: 0.5125 - val_loss: 0.6931\n",
            "Epoch 8/20\n",
            "\u001b[1m31/31\u001b[0m \u001b[32m━━━━━━━━━━━━━━━━━━━━\u001b[0m\u001b[37m\u001b[0m \u001b[1m70s\u001b[0m 2s/step - accuracy: 0.4920 - loss: 0.6932 - val_accuracy: 0.4833 - val_loss: 0.6929\n",
            "Epoch 9/20\n",
            "\u001b[1m31/31\u001b[0m \u001b[32m━━━━━━━━━━━━━━━━━━━━\u001b[0m\u001b[37m\u001b[0m \u001b[1m3s\u001b[0m 28ms/step - accuracy: 0.5312 - loss: 0.6914 - val_accuracy: 0.4250 - val_loss: 0.6947\n",
            "Epoch 10/20\n",
            "\u001b[1m31/31\u001b[0m \u001b[32m━━━━━━━━━━━━━━━━━━━━\u001b[0m\u001b[37m\u001b[0m \u001b[1m125s\u001b[0m 2s/step - accuracy: 0.4516 - loss: 0.6933 - val_accuracy: 0.5542 - val_loss: 0.6873\n",
            "Epoch 11/20\n",
            "\u001b[1m31/31\u001b[0m \u001b[32m━━━━━━━━━━━━━━━━━━━━\u001b[0m\u001b[37m\u001b[0m \u001b[1m72s\u001b[0m 2s/step - accuracy: 0.5331 - loss: 0.6888 - val_accuracy: 0.5750 - val_loss: 0.6794\n",
            "Epoch 12/20\n",
            "\u001b[1m31/31\u001b[0m \u001b[32m━━━━━━━━━━━━━━━━━━━━\u001b[0m\u001b[37m\u001b[0m \u001b[1m2s\u001b[0m 16ms/step - accuracy: 0.5625 - loss: 0.6953 - val_accuracy: 0.5250 - val_loss: 0.6925\n",
            "Epoch 13/20\n",
            "\u001b[1m31/31\u001b[0m \u001b[32m━━━━━━━━━━━━━━━━━━━━\u001b[0m\u001b[37m\u001b[0m \u001b[1m137s\u001b[0m 3s/step - accuracy: 0.5210 - loss: 0.6928 - val_accuracy: 0.4896 - val_loss: 0.6807\n",
            "Epoch 14/20\n",
            "\u001b[1m31/31\u001b[0m \u001b[32m━━━━━━━━━━━━━━━━━━━━\u001b[0m\u001b[37m\u001b[0m \u001b[1m71s\u001b[0m 2s/step - accuracy: 0.5425 - loss: 0.6903 - val_accuracy: 0.5604 - val_loss: 0.6823\n",
            "Epoch 15/20\n",
            "\u001b[1m31/31\u001b[0m \u001b[32m━━━━━━━━━━━━━━━━━━━━\u001b[0m\u001b[37m\u001b[0m \u001b[1m3s\u001b[0m 30ms/step - accuracy: 0.3438 - loss: 0.7324 - val_accuracy: 0.6250 - val_loss: 0.6744\n",
            "Epoch 16/20\n",
            "\u001b[1m31/31\u001b[0m \u001b[32m━━━━━━━━━━━━━━━━━━━━\u001b[0m\u001b[37m\u001b[0m \u001b[1m120s\u001b[0m 2s/step - accuracy: 0.5434 - loss: 0.6869 - val_accuracy: 0.6083 - val_loss: 0.6776\n",
            "Epoch 17/20\n",
            "\u001b[1m31/31\u001b[0m \u001b[32m━━━━━━━━━━━━━━━━━━━━\u001b[0m\u001b[37m\u001b[0m \u001b[1m71s\u001b[0m 2s/step - accuracy: 0.5838 - loss: 0.6804 - val_accuracy: 0.5729 - val_loss: 0.6815\n",
            "Epoch 18/20\n",
            "\u001b[1m31/31\u001b[0m \u001b[32m━━━━━━━━━━━━━━━━━━━━\u001b[0m\u001b[37m\u001b[0m \u001b[1m61s\u001b[0m 2s/step - accuracy: 0.5000 - loss: 0.6904 - val_accuracy: 0.6000 - val_loss: 0.6668\n",
            "Epoch 19/20\n",
            "\u001b[1m31/31\u001b[0m \u001b[32m━━━━━━━━━━━━━━━━━━━━\u001b[0m\u001b[37m\u001b[0m \u001b[1m76s\u001b[0m 2s/step - accuracy: 0.5538 - loss: 0.6844 - val_accuracy: 0.6313 - val_loss: 0.6608\n",
            "Epoch 20/20\n",
            "\u001b[1m31/31\u001b[0m \u001b[32m━━━━━━━━━━━━━━━━━━━━\u001b[0m\u001b[37m\u001b[0m \u001b[1m74s\u001b[0m 2s/step - accuracy: 0.5747 - loss: 0.6799 - val_accuracy: 0.5938 - val_loss: 0.6614\n"
          ]
        }
      ]
    },
    {
      "cell_type": "code",
      "source": [
        "# Extract final metrics from the history object\n",
        "final_train_accuracy = history.history['accuracy'][-1]\n",
        "final_train_loss = history.history['loss'][-1]\n",
        "final_val_accuracy = history.history['val_accuracy'][-1]\n",
        "final_val_loss = history.history['val_loss'][-1]\n",
        "\n",
        "# Print the results\n",
        "print(f\"Final Training Accuracy: {final_train_accuracy:.4f}\")\n",
        "print(f\"Final Training Loss: {final_train_loss:.4f}\")\n",
        "print(f\"Final Validation Accuracy: {final_val_accuracy:.4f}\")\n",
        "print(f\"Final Validation Loss: {final_val_loss:.4f}\")\n"
      ],
      "metadata": {
        "colab": {
          "base_uri": "https://localhost:8080/"
        },
        "id": "gGgoIgvvCujD",
        "outputId": "ec9b5e64-7f5e-45e9-bbc6-d32961e6ccb4"
      },
      "execution_count": 7,
      "outputs": [
        {
          "output_type": "stream",
          "name": "stdout",
          "text": [
            "Final Training Accuracy: 0.5837\n",
            "Final Training Loss: 0.6736\n",
            "Final Validation Accuracy: 0.5938\n",
            "Final Validation Loss: 0.6614\n"
          ]
        }
      ]
    },
    {
      "cell_type": "code",
      "source": [
        "test_loss, test_acc = model.evaluate(test_generator)\n",
        "print(f\"Test Accuracy: {test_acc:.4f}\")\n"
      ],
      "metadata": {
        "colab": {
          "base_uri": "https://localhost:8080/"
        },
        "id": "F5BUtMYEXzIy",
        "outputId": "00f4cc39-320e-4bcf-d6c1-51a605fef4bc"
      },
      "execution_count": 8,
      "outputs": [
        {
          "output_type": "stream",
          "name": "stdout",
          "text": [
            "\u001b[1m32/32\u001b[0m \u001b[32m━━━━━━━━━━━━━━━━━━━━\u001b[0m\u001b[37m\u001b[0m \u001b[1m213s\u001b[0m 7s/step - accuracy: 0.5340 - loss: 0.6792\n",
            "Test Accuracy: 0.5634\n"
          ]
        }
      ]
    },
    {
      "cell_type": "markdown",
      "source": [
        "Q2"
      ],
      "metadata": {
        "id": "fe_UiOFPdf2j"
      }
    },
    {
      "cell_type": "code",
      "source": [
        "history2 = model.fit(\n",
        "    train_generator,\n",
        "    steps_per_epoch=1504 // 32,\n",
        "    epochs=20,\n",
        "    validation_data=validation_generator,\n",
        "    validation_steps=500 // 32\n",
        ")\n"
      ],
      "metadata": {
        "colab": {
          "base_uri": "https://localhost:8080/"
        },
        "id": "tjsv3q_laGb_",
        "outputId": "fbaa49d0-f8f5-4fb1-9f09-1e9ede3b1813"
      },
      "execution_count": 9,
      "outputs": [
        {
          "output_type": "stream",
          "name": "stdout",
          "text": [
            "Epoch 1/20\n",
            "\u001b[1m47/47\u001b[0m \u001b[32m━━━━━━━━━━━━━━━━━━━━\u001b[0m\u001b[37m\u001b[0m \u001b[1m110s\u001b[0m 2s/step - accuracy: 0.5444 - loss: 0.6721 - val_accuracy: 0.5188 - val_loss: 0.6919\n",
            "Epoch 2/20\n",
            "\u001b[1m47/47\u001b[0m \u001b[32m━━━━━━━━━━━━━━━━━━━━\u001b[0m\u001b[37m\u001b[0m \u001b[1m38s\u001b[0m 788ms/step - accuracy: 0.5423 - loss: 0.6917 - val_accuracy: 0.5479 - val_loss: 0.6904\n",
            "Epoch 3/20\n",
            "\u001b[1m47/47\u001b[0m \u001b[32m━━━━━━━━━━━━━━━━━━━━\u001b[0m\u001b[37m\u001b[0m \u001b[1m154s\u001b[0m 2s/step - accuracy: 0.5148 - loss: 0.6936 - val_accuracy: 0.6250 - val_loss: 0.6838\n",
            "Epoch 4/20\n",
            "\u001b[1m47/47\u001b[0m \u001b[32m━━━━━━━━━━━━━━━━━━━━\u001b[0m\u001b[37m\u001b[0m \u001b[1m40s\u001b[0m 831ms/step - accuracy: 0.5526 - loss: 0.6849 - val_accuracy: 0.5646 - val_loss: 0.6846\n",
            "Epoch 5/20\n",
            "\u001b[1m47/47\u001b[0m \u001b[32m━━━━━━━━━━━━━━━━━━━━\u001b[0m\u001b[37m\u001b[0m \u001b[1m110s\u001b[0m 2s/step - accuracy: 0.5356 - loss: 0.6898 - val_accuracy: 0.5854 - val_loss: 0.6706\n",
            "Epoch 6/20\n",
            "\u001b[1m47/47\u001b[0m \u001b[32m━━━━━━━━━━━━━━━━━━━━\u001b[0m\u001b[37m\u001b[0m \u001b[1m31s\u001b[0m 639ms/step - accuracy: 0.5595 - loss: 0.6682 - val_accuracy: 0.5000 - val_loss: 0.6637\n",
            "Epoch 7/20\n",
            "\u001b[1m47/47\u001b[0m \u001b[32m━━━━━━━━━━━━━━━━━━━━\u001b[0m\u001b[37m\u001b[0m \u001b[1m110s\u001b[0m 2s/step - accuracy: 0.5579 - loss: 0.6830 - val_accuracy: 0.5854 - val_loss: 0.6601\n",
            "Epoch 8/20\n",
            "\u001b[1m47/47\u001b[0m \u001b[32m━━━━━━━━━━━━━━━━━━━━\u001b[0m\u001b[37m\u001b[0m \u001b[1m40s\u001b[0m 830ms/step - accuracy: 0.6097 - loss: 0.6688 - val_accuracy: 0.6021 - val_loss: 0.6588\n",
            "Epoch 9/20\n",
            "\u001b[1m47/47\u001b[0m \u001b[32m━━━━━━━━━━━━━━━━━━━━\u001b[0m\u001b[37m\u001b[0m \u001b[1m154s\u001b[0m 2s/step - accuracy: 0.6080 - loss: 0.6471 - val_accuracy: 0.5750 - val_loss: 0.6497\n",
            "Epoch 10/20\n",
            "\u001b[1m47/47\u001b[0m \u001b[32m━━━━━━━━━━━━━━━━━━━━\u001b[0m\u001b[37m\u001b[0m \u001b[1m38s\u001b[0m 785ms/step - accuracy: 0.5720 - loss: 0.6878 - val_accuracy: 0.5396 - val_loss: 0.6862\n",
            "Epoch 11/20\n",
            "\u001b[1m47/47\u001b[0m \u001b[32m━━━━━━━━━━━━━━━━━━━━\u001b[0m\u001b[37m\u001b[0m \u001b[1m110s\u001b[0m 2s/step - accuracy: 0.5524 - loss: 0.6860 - val_accuracy: 0.6146 - val_loss: 0.6561\n",
            "Epoch 12/20\n",
            "\u001b[1m47/47\u001b[0m \u001b[32m━━━━━━━━━━━━━━━━━━━━\u001b[0m\u001b[37m\u001b[0m \u001b[1m31s\u001b[0m 637ms/step - accuracy: 0.5821 - loss: 0.6861 - val_accuracy: 0.6000 - val_loss: 0.6913\n",
            "Epoch 13/20\n",
            "\u001b[1m47/47\u001b[0m \u001b[32m━━━━━━━━━━━━━━━━━━━━\u001b[0m\u001b[37m\u001b[0m \u001b[1m109s\u001b[0m 2s/step - accuracy: 0.5423 - loss: 0.6858 - val_accuracy: 0.6000 - val_loss: 0.6420\n",
            "Epoch 14/20\n",
            "\u001b[1m47/47\u001b[0m \u001b[32m━━━━━━━━━━━━━━━━━━━━\u001b[0m\u001b[37m\u001b[0m \u001b[1m40s\u001b[0m 811ms/step - accuracy: 0.6082 - loss: 0.6544 - val_accuracy: 0.6208 - val_loss: 0.6432\n",
            "Epoch 15/20\n",
            "\u001b[1m47/47\u001b[0m \u001b[32m━━━━━━━━━━━━━━━━━━━━\u001b[0m\u001b[37m\u001b[0m \u001b[1m154s\u001b[0m 3s/step - accuracy: 0.5941 - loss: 0.6777 - val_accuracy: 0.5750 - val_loss: 0.6743\n",
            "Epoch 16/20\n",
            "\u001b[1m47/47\u001b[0m \u001b[32m━━━━━━━━━━━━━━━━━━━━\u001b[0m\u001b[37m\u001b[0m \u001b[1m38s\u001b[0m 787ms/step - accuracy: 0.6352 - loss: 0.6305 - val_accuracy: 0.5604 - val_loss: 0.7025\n",
            "Epoch 17/20\n",
            "\u001b[1m47/47\u001b[0m \u001b[32m━━━━━━━━━━━━━━━━━━━━\u001b[0m\u001b[37m\u001b[0m \u001b[1m109s\u001b[0m 2s/step - accuracy: 0.6002 - loss: 0.6613 - val_accuracy: 0.5979 - val_loss: 0.6436\n",
            "Epoch 18/20\n",
            "\u001b[1m47/47\u001b[0m \u001b[32m━━━━━━━━━━━━━━━━━━━━\u001b[0m\u001b[37m\u001b[0m \u001b[1m31s\u001b[0m 623ms/step - accuracy: 0.6255 - loss: 0.6378 - val_accuracy: 0.6500 - val_loss: 0.6171\n",
            "Epoch 19/20\n",
            "\u001b[1m47/47\u001b[0m \u001b[32m━━━━━━━━━━━━━━━━━━━━\u001b[0m\u001b[37m\u001b[0m \u001b[1m108s\u001b[0m 2s/step - accuracy: 0.6107 - loss: 0.6471 - val_accuracy: 0.6542 - val_loss: 0.6191\n",
            "Epoch 20/20\n",
            "\u001b[1m47/47\u001b[0m \u001b[32m━━━━━━━━━━━━━━━━━━━━\u001b[0m\u001b[37m\u001b[0m \u001b[1m40s\u001b[0m 804ms/step - accuracy: 0.6674 - loss: 0.6061 - val_accuracy: 0.6625 - val_loss: 0.5942\n"
          ]
        }
      ]
    },
    {
      "cell_type": "code",
      "source": [
        "# Extract final metrics from the history object\n",
        "final_train_accuracy = history2.history['accuracy'][-1]\n",
        "final_train_loss = history2.history['loss'][-1]\n",
        "final_val_accuracy = history2.history['val_accuracy'][-1]\n",
        "final_val_loss = history2.history['val_loss'][-1]\n",
        "\n",
        "# Print the results\n",
        "print(f\"Final Training Accuracy: {final_train_accuracy:.4f}\")\n",
        "print(f\"Final Training Loss: {final_train_loss:.4f}\")\n",
        "print(f\"Final Validation Accuracy: {final_val_accuracy:.4f}\")\n",
        "print(f\"Final Validation Loss: {final_val_loss:.4f}\")\n"
      ],
      "metadata": {
        "colab": {
          "base_uri": "https://localhost:8080/"
        },
        "id": "Ewc-imzZClqB",
        "outputId": "11d3a478-984c-48bf-c5b7-e1d1bb65e11c"
      },
      "execution_count": 10,
      "outputs": [
        {
          "output_type": "stream",
          "name": "stdout",
          "text": [
            "Final Training Accuracy: 0.6641\n",
            "Final Training Loss: 0.6105\n",
            "Final Validation Accuracy: 0.6625\n",
            "Final Validation Loss: 0.5942\n"
          ]
        }
      ]
    },
    {
      "cell_type": "code",
      "source": [
        "test_loss, test_acc = model.evaluate(test_generator)\n",
        "print(f\"Test Accuracy: {test_acc:.4f}\")"
      ],
      "metadata": {
        "colab": {
          "base_uri": "https://localhost:8080/"
        },
        "id": "-xKsNAHjaF_4",
        "outputId": "f7a510aa-0259-4a44-a409-5a16fe283cff"
      },
      "execution_count": 11,
      "outputs": [
        {
          "output_type": "stream",
          "name": "stdout",
          "text": [
            "\u001b[1m32/32\u001b[0m \u001b[32m━━━━━━━━━━━━━━━━━━━━\u001b[0m\u001b[37m\u001b[0m \u001b[1m18s\u001b[0m 559ms/step - accuracy: 0.6597 - loss: 0.6461\n",
            "Test Accuracy: 0.6554\n"
          ]
        }
      ]
    },
    {
      "cell_type": "markdown",
      "source": [
        "Q3"
      ],
      "metadata": {
        "id": "bQYPhDVtoN-L"
      }
    },
    {
      "cell_type": "code",
      "source": [
        "history3 = model.fit(\n",
        "    train_generator,\n",
        "    steps_per_epoch=1600 // 32,\n",
        "    epochs=20,\n",
        "    validation_data=validation_generator,\n",
        "    validation_steps=500 // 32\n",
        ")"
      ],
      "metadata": {
        "colab": {
          "base_uri": "https://localhost:8080/"
        },
        "id": "M4_x_LQDoMjG",
        "outputId": "31c7a6ff-738a-42b3-e5d4-f7f44529de0d"
      },
      "execution_count": 12,
      "outputs": [
        {
          "output_type": "stream",
          "name": "stdout",
          "text": [
            "Epoch 1/20\n",
            "\u001b[1m50/50\u001b[0m \u001b[32m━━━━━━━━━━━━━━━━━━━━\u001b[0m\u001b[37m\u001b[0m \u001b[1m115s\u001b[0m 2s/step - accuracy: 0.6651 - loss: 0.6237 - val_accuracy: 0.6708 - val_loss: 0.5975\n",
            "Epoch 2/20\n",
            "\u001b[1m50/50\u001b[0m \u001b[32m━━━━━━━━━━━━━━━━━━━━\u001b[0m\u001b[37m\u001b[0m \u001b[1m33s\u001b[0m 644ms/step - accuracy: 0.6612 - loss: 0.6080 - val_accuracy: 0.7000 - val_loss: 0.5964\n",
            "Epoch 3/20\n",
            "\u001b[1m50/50\u001b[0m \u001b[32m━━━━━━━━━━━━━━━━━━━━\u001b[0m\u001b[37m\u001b[0m \u001b[1m159s\u001b[0m 2s/step - accuracy: 0.6883 - loss: 0.5995 - val_accuracy: 0.8250 - val_loss: 0.4817\n",
            "Epoch 4/20\n",
            "\u001b[1m50/50\u001b[0m \u001b[32m━━━━━━━━━━━━━━━━━━━━\u001b[0m\u001b[37m\u001b[0m \u001b[1m33s\u001b[0m 630ms/step - accuracy: 0.6666 - loss: 0.6196 - val_accuracy: 0.6562 - val_loss: 0.5915\n",
            "Epoch 5/20\n",
            "\u001b[1m50/50\u001b[0m \u001b[32m━━━━━━━━━━━━━━━━━━━━\u001b[0m\u001b[37m\u001b[0m \u001b[1m115s\u001b[0m 2s/step - accuracy: 0.7004 - loss: 0.5855 - val_accuracy: 0.7417 - val_loss: 0.5608\n",
            "Epoch 6/20\n",
            "\u001b[1m50/50\u001b[0m \u001b[32m━━━━━━━━━━━━━━━━━━━━\u001b[0m\u001b[37m\u001b[0m \u001b[1m79s\u001b[0m 2s/step - accuracy: 0.6500 - loss: 0.6136 - val_accuracy: 0.6000 - val_loss: 0.5900\n",
            "Epoch 7/20\n",
            "\u001b[1m50/50\u001b[0m \u001b[32m━━━━━━━━━━━━━━━━━━━━\u001b[0m\u001b[37m\u001b[0m \u001b[1m123s\u001b[0m 2s/step - accuracy: 0.6790 - loss: 0.5931 - val_accuracy: 0.6479 - val_loss: 0.6102\n",
            "Epoch 8/20\n",
            "\u001b[1m50/50\u001b[0m \u001b[32m━━━━━━━━━━━━━━━━━━━━\u001b[0m\u001b[37m\u001b[0m \u001b[1m32s\u001b[0m 618ms/step - accuracy: 0.6829 - loss: 0.5703 - val_accuracy: 0.6875 - val_loss: 0.5816\n",
            "Epoch 9/20\n",
            "\u001b[1m50/50\u001b[0m \u001b[32m━━━━━━━━━━━━━━━━━━━━\u001b[0m\u001b[37m\u001b[0m \u001b[1m107s\u001b[0m 2s/step - accuracy: 0.6771 - loss: 0.5804 - val_accuracy: 0.6500 - val_loss: 0.6137\n",
            "Epoch 10/20\n",
            "\u001b[1m50/50\u001b[0m \u001b[32m━━━━━━━━━━━━━━━━━━━━\u001b[0m\u001b[37m\u001b[0m \u001b[1m33s\u001b[0m 639ms/step - accuracy: 0.7081 - loss: 0.5751 - val_accuracy: 0.7083 - val_loss: 0.5482\n",
            "Epoch 11/20\n",
            "\u001b[1m50/50\u001b[0m \u001b[32m━━━━━━━━━━━━━━━━━━━━\u001b[0m\u001b[37m\u001b[0m \u001b[1m119s\u001b[0m 2s/step - accuracy: 0.6973 - loss: 0.5758 - val_accuracy: 0.7333 - val_loss: 0.5496\n",
            "Epoch 12/20\n",
            "\u001b[1m50/50\u001b[0m \u001b[32m━━━━━━━━━━━━━━━━━━━━\u001b[0m\u001b[37m\u001b[0m \u001b[1m24s\u001b[0m 461ms/step - accuracy: 0.6945 - loss: 0.5716 - val_accuracy: 0.6750 - val_loss: 0.5122\n",
            "Epoch 13/20\n",
            "\u001b[1m50/50\u001b[0m \u001b[32m━━━━━━━━━━━━━━━━━━━━\u001b[0m\u001b[37m\u001b[0m \u001b[1m116s\u001b[0m 2s/step - accuracy: 0.7012 - loss: 0.5786 - val_accuracy: 0.6875 - val_loss: 0.5739\n",
            "Epoch 14/20\n",
            "\u001b[1m50/50\u001b[0m \u001b[32m━━━━━━━━━━━━━━━━━━━━\u001b[0m\u001b[37m\u001b[0m \u001b[1m33s\u001b[0m 629ms/step - accuracy: 0.7146 - loss: 0.5610 - val_accuracy: 0.7312 - val_loss: 0.5643\n",
            "Epoch 15/20\n",
            "\u001b[1m50/50\u001b[0m \u001b[32m━━━━━━━━━━━━━━━━━━━━\u001b[0m\u001b[37m\u001b[0m \u001b[1m160s\u001b[0m 2s/step - accuracy: 0.6675 - loss: 0.5867 - val_accuracy: 0.8000 - val_loss: 0.5384\n",
            "Epoch 16/20\n",
            "\u001b[1m50/50\u001b[0m \u001b[32m━━━━━━━━━━━━━━━━━━━━\u001b[0m\u001b[37m\u001b[0m \u001b[1m33s\u001b[0m 637ms/step - accuracy: 0.6521 - loss: 0.6066 - val_accuracy: 0.7083 - val_loss: 0.5619\n",
            "Epoch 17/20\n",
            "\u001b[1m50/50\u001b[0m \u001b[32m━━━━━━━━━━━━━━━━━━━━\u001b[0m\u001b[37m\u001b[0m \u001b[1m115s\u001b[0m 2s/step - accuracy: 0.7200 - loss: 0.5565 - val_accuracy: 0.7229 - val_loss: 0.5337\n",
            "Epoch 18/20\n",
            "\u001b[1m50/50\u001b[0m \u001b[32m━━━━━━━━━━━━━━━━━━━━\u001b[0m\u001b[37m\u001b[0m \u001b[1m79s\u001b[0m 2s/step - accuracy: 0.7040 - loss: 0.5620 - val_accuracy: 0.7250 - val_loss: 0.5261\n",
            "Epoch 19/20\n",
            "\u001b[1m50/50\u001b[0m \u001b[32m━━━━━━━━━━━━━━━━━━━━\u001b[0m\u001b[37m\u001b[0m \u001b[1m115s\u001b[0m 2s/step - accuracy: 0.7236 - loss: 0.5570 - val_accuracy: 0.7104 - val_loss: 0.5514\n",
            "Epoch 20/20\n",
            "\u001b[1m50/50\u001b[0m \u001b[32m━━━━━━━━━━━━━━━━━━━━\u001b[0m\u001b[37m\u001b[0m \u001b[1m34s\u001b[0m 644ms/step - accuracy: 0.7158 - loss: 0.5848 - val_accuracy: 0.7271 - val_loss: 0.5298\n"
          ]
        }
      ]
    },
    {
      "cell_type": "code",
      "source": [
        "# Extract final metrics from the history object\n",
        "final_train_accuracy = history3.history['accuracy'][-1]\n",
        "final_train_loss = history3.history['loss'][-1]\n",
        "final_val_accuracy = history3.history['val_accuracy'][-1]\n",
        "final_val_loss = history3.history['val_loss'][-1]\n",
        "\n",
        "# Print the results\n",
        "print(f\"Final Training Accuracy: {final_train_accuracy:.4f}\")\n",
        "print(f\"Final Training Loss: {final_train_loss:.4f}\")\n",
        "print(f\"Final Validation Accuracy: {final_val_accuracy:.4f}\")\n",
        "print(f\"Final Validation Loss: {final_val_loss:.4f}\")\n"
      ],
      "metadata": {
        "colab": {
          "base_uri": "https://localhost:8080/"
        },
        "id": "DUVjTrHwCb3O",
        "outputId": "ac90a197-4723-4a23-eca1-3b0f516d4c8d"
      },
      "execution_count": 13,
      "outputs": [
        {
          "output_type": "stream",
          "name": "stdout",
          "text": [
            "Final Training Accuracy: 0.7212\n",
            "Final Training Loss: 0.5799\n",
            "Final Validation Accuracy: 0.7271\n",
            "Final Validation Loss: 0.5298\n"
          ]
        }
      ]
    },
    {
      "cell_type": "code",
      "source": [
        "test_loss, test_acc = model.evaluate(test_generator)\n",
        "print(f\"Test Accuracy: {test_acc:.4f}\")"
      ],
      "metadata": {
        "colab": {
          "base_uri": "https://localhost:8080/"
        },
        "id": "qHbxRhGDo5dD",
        "outputId": "37ec1399-c14d-4a84-bd08-e2b42c3659c6"
      },
      "execution_count": 14,
      "outputs": [
        {
          "output_type": "stream",
          "name": "stdout",
          "text": [
            "\u001b[1m32/32\u001b[0m \u001b[32m━━━━━━━━━━━━━━━━━━━━\u001b[0m\u001b[37m\u001b[0m \u001b[1m18s\u001b[0m 563ms/step - accuracy: 0.7309 - loss: 0.5587\n",
            "Test Accuracy: 0.7178\n"
          ]
        }
      ]
    },
    {
      "cell_type": "markdown",
      "source": [
        "Q4"
      ],
      "metadata": {
        "id": "8unvIIB-R3lA"
      }
    },
    {
      "cell_type": "code",
      "source": [
        "from tensorflow.keras.applications import VGG16\n",
        "from tensorflow.keras.models import Sequential\n",
        "from tensorflow.keras.layers import Dense, Flatten, Dropout\n",
        "from tensorflow.keras.optimizers import Adam\n",
        "from tensorflow.keras.callbacks import EarlyStopping, ReduceLROnPlateau\n",
        "from tensorflow.keras.preprocessing.image import ImageDataGenerator\n",
        "from tensorflow.keras.regularizers import l2\n"
      ],
      "metadata": {
        "id": "1njK1Jz83buh"
      },
      "execution_count": 9,
      "outputs": []
    },
    {
      "cell_type": "code",
      "source": [
        "# Load VGG16 pretrained model without top layers\n",
        "base_model = VGG16(weights='imagenet', include_top=False, input_shape=(150, 150, 3))\n",
        "\n",
        "# Freeze the convolutional base layers\n",
        "for layer in base_model.layers:\n",
        "    layer.trainable = False\n",
        "\n",
        "# Add custom layers on top of VGG16\n",
        "model = Sequential([\n",
        "    base_model,\n",
        "    Flatten(),\n",
        "    Dense(512, activation='relu', kernel_regularizer=l2(0.001)),  # L2 Regularization\n",
        "    Dropout(0.5),  # Dropout layer to reduce overfitting\n",
        "    Dense(1, activation='sigmoid')  # Binary classification output\n",
        "])\n",
        "\n",
        "# Compile model\n",
        "model.compile(optimizer=Adam(learning_rate=1e-4), loss='binary_crossentropy', metrics=['accuracy'])\n"
      ],
      "metadata": {
        "colab": {
          "base_uri": "https://localhost:8080/"
        },
        "id": "KFRYHJO4SIb8",
        "outputId": "8ef0cbf0-28f4-4946-9bbd-b2a4029991ba"
      },
      "execution_count": 10,
      "outputs": [
        {
          "output_type": "stream",
          "name": "stdout",
          "text": [
            "Downloading data from https://storage.googleapis.com/tensorflow/keras-applications/vgg16/vgg16_weights_tf_dim_ordering_tf_kernels_notop.h5\n",
            "\u001b[1m58889256/58889256\u001b[0m \u001b[32m━━━━━━━━━━━━━━━━━━━━\u001b[0m\u001b[37m\u001b[0m \u001b[1m4s\u001b[0m 0us/step\n"
          ]
        }
      ]
    },
    {
      "cell_type": "code",
      "source": [
        "# Data Augmentation for training\n",
        "train_datagen = ImageDataGenerator(\n",
        "    rescale=1.0/255,\n",
        "    rotation_range=40,\n",
        "    width_shift_range=0.2,\n",
        "    height_shift_range=0.2,\n",
        "    shear_range=0.2,\n",
        "    zoom_range=0.2,\n",
        "    horizontal_flip=True\n",
        ")\n",
        "\n",
        "# For validation and test, only rescale images\n",
        "val_test_datagen = ImageDataGenerator(rescale=1.0/255)\n",
        "\n",
        "# Define data directories\n",
        "train_generator = train_datagen.flow_from_directory(\n",
        "    '/content/drive/My Drive/assi3/cats_vs_dogs_small/train',  # Replace with actual directory path\n",
        "    target_size=(150, 150),\n",
        "    batch_size=32,\n",
        "    class_mode='binary'\n",
        ")\n",
        "\n",
        "validation_generator = val_test_datagen.flow_from_directory(\n",
        "    '/content/drive/My Drive/assi3/cats_vs_dogs_small/validation',  # Replace with actual directory path\n",
        "    target_size=(150, 150),\n",
        "    batch_size=32,\n",
        "    class_mode='binary'\n",
        ")\n",
        "\n",
        "test_generator = val_test_datagen.flow_from_directory(\n",
        "    '/content/drive/My Drive/assi3/cats_vs_dogs_small/test',  # Replace with actual directory path\n",
        "    target_size=(150, 150),\n",
        "    batch_size=32,\n",
        "    class_mode='binary'\n",
        ")\n"
      ],
      "metadata": {
        "colab": {
          "base_uri": "https://localhost:8080/"
        },
        "id": "zT2Y_NGUSTYS",
        "outputId": "ac191d0b-34b3-4fb6-fed3-4e4f7f5d971d"
      },
      "execution_count": 11,
      "outputs": [
        {
          "output_type": "stream",
          "name": "stdout",
          "text": [
            "Found 2010 images belonging to 2 classes.\n",
            "Found 1000 images belonging to 2 classes.\n",
            "Found 1010 images belonging to 2 classes.\n"
          ]
        }
      ]
    },
    {
      "cell_type": "code",
      "source": [
        "# Set up callbacks for learning rate reduction and early stopping\n",
        "callbacks = [\n",
        "    EarlyStopping(monitor='val_loss', patience=5, restore_best_weights=True),\n",
        "    ReduceLROnPlateau(monitor='val_loss', factor=0.2, patience=3, min_lr=1e-6)\n",
        "]\n"
      ],
      "metadata": {
        "id": "4rVI3b33Ya8f"
      },
      "execution_count": 12,
      "outputs": []
    },
    {
      "cell_type": "code",
      "source": [
        "# Train the model with data augmentation and optimizations\n",
        "history4 = model.fit(\n",
        "    train_generator,\n",
        "    steps_per_epoch=1000 // 32,\n",
        "    epochs=20,\n",
        "    validation_data=validation_generator,\n",
        "    validation_steps=500 // 32,\n",
        "    callbacks=callbacks\n",
        ")\n"
      ],
      "metadata": {
        "colab": {
          "base_uri": "https://localhost:8080/"
        },
        "id": "ERTXgK57YgN_",
        "outputId": "f28d247a-2cd2-4a45-9efe-4c04df96500d"
      },
      "execution_count": 19,
      "outputs": [
        {
          "output_type": "stream",
          "name": "stdout",
          "text": [
            "Epoch 1/20\n",
            "\u001b[1m31/31\u001b[0m \u001b[32m━━━━━━━━━━━━━━━━━━━━\u001b[0m\u001b[37m\u001b[0m \u001b[1m375s\u001b[0m 12s/step - accuracy: 0.5756 - loss: 1.6562 - val_accuracy: 0.8250 - val_loss: 1.2590 - learning_rate: 1.0000e-04\n",
            "Epoch 2/20\n",
            "\u001b[1m31/31\u001b[0m \u001b[32m━━━━━━━━━━━━━━━━━━━━\u001b[0m\u001b[37m\u001b[0m \u001b[1m369s\u001b[0m 12s/step - accuracy: 0.7406 - loss: 1.3636 - val_accuracy: 0.8646 - val_loss: 1.1302 - learning_rate: 1.0000e-04\n",
            "Epoch 3/20\n",
            "\u001b[1m31/31\u001b[0m \u001b[32m━━━━━━━━━━━━━━━━━━━━\u001b[0m\u001b[37m\u001b[0m \u001b[1m17s\u001b[0m 354ms/step - accuracy: 0.7812 - loss: 1.3083 - val_accuracy: 0.9000 - val_loss: 1.0131 - learning_rate: 1.0000e-04\n",
            "Epoch 4/20\n",
            "\u001b[1m31/31\u001b[0m \u001b[32m━━━━━━━━━━━━━━━━━━━━\u001b[0m\u001b[37m\u001b[0m \u001b[1m416s\u001b[0m 12s/step - accuracy: 0.8081 - loss: 1.2168 - val_accuracy: 0.8875 - val_loss: 1.0327 - learning_rate: 1.0000e-04\n",
            "Epoch 5/20\n",
            "\u001b[1m31/31\u001b[0m \u001b[32m━━━━━━━━━━━━━━━━━━━━\u001b[0m\u001b[37m\u001b[0m \u001b[1m368s\u001b[0m 12s/step - accuracy: 0.8146 - loss: 1.1377 - val_accuracy: 0.9021 - val_loss: 0.9496 - learning_rate: 1.0000e-04\n",
            "Epoch 6/20\n",
            "\u001b[1m31/31\u001b[0m \u001b[32m━━━━━━━━━━━━━━━━━━━━\u001b[0m\u001b[37m\u001b[0m \u001b[1m17s\u001b[0m 348ms/step - accuracy: 0.9375 - loss: 1.0230 - val_accuracy: 0.8500 - val_loss: 0.9874 - learning_rate: 1.0000e-04\n",
            "Epoch 7/20\n",
            "\u001b[1m31/31\u001b[0m \u001b[32m━━━━━━━━━━━━━━━━━━━━\u001b[0m\u001b[37m\u001b[0m \u001b[1m373s\u001b[0m 12s/step - accuracy: 0.8331 - loss: 1.0577 - val_accuracy: 0.8687 - val_loss: 0.9620 - learning_rate: 1.0000e-04\n",
            "Epoch 8/20\n",
            "\u001b[1m31/31\u001b[0m \u001b[32m━━━━━━━━━━━━━━━━━━━━\u001b[0m\u001b[37m\u001b[0m \u001b[1m370s\u001b[0m 12s/step - accuracy: 0.7999 - loss: 1.0568 - val_accuracy: 0.8729 - val_loss: 0.9300 - learning_rate: 1.0000e-04\n",
            "Epoch 9/20\n",
            "\u001b[1m31/31\u001b[0m \u001b[32m━━━━━━━━━━━━━━━━━━━━\u001b[0m\u001b[37m\u001b[0m \u001b[1m19s\u001b[0m 359ms/step - accuracy: 0.8438 - loss: 0.8996 - val_accuracy: 0.8250 - val_loss: 0.9124 - learning_rate: 1.0000e-04\n",
            "Epoch 10/20\n",
            "\u001b[1m31/31\u001b[0m \u001b[32m━━━━━━━━━━━━━━━━━━━━\u001b[0m\u001b[37m\u001b[0m \u001b[1m417s\u001b[0m 12s/step - accuracy: 0.8094 - loss: 1.0489 - val_accuracy: 0.8917 - val_loss: 0.8712 - learning_rate: 1.0000e-04\n",
            "Epoch 11/20\n",
            "\u001b[1m31/31\u001b[0m \u001b[32m━━━━━━━━━━━━━━━━━━━━\u001b[0m\u001b[37m\u001b[0m \u001b[1m376s\u001b[0m 12s/step - accuracy: 0.8271 - loss: 0.9904 - val_accuracy: 0.8729 - val_loss: 0.8741 - learning_rate: 1.0000e-04\n",
            "Epoch 12/20\n",
            "\u001b[1m31/31\u001b[0m \u001b[32m━━━━━━━━━━━━━━━━━━━━\u001b[0m\u001b[37m\u001b[0m \u001b[1m18s\u001b[0m 359ms/step - accuracy: 0.7500 - loss: 1.0696 - val_accuracy: 0.8500 - val_loss: 0.9514 - learning_rate: 1.0000e-04\n",
            "Epoch 13/20\n",
            "\u001b[1m31/31\u001b[0m \u001b[32m━━━━━━━━━━━━━━━━━━━━\u001b[0m\u001b[37m\u001b[0m \u001b[1m381s\u001b[0m 12s/step - accuracy: 0.8229 - loss: 0.9516 - val_accuracy: 0.8583 - val_loss: 0.8465 - learning_rate: 1.0000e-04\n",
            "Epoch 14/20\n",
            "\u001b[1m31/31\u001b[0m \u001b[32m━━━━━━━━━━━━━━━━━━━━\u001b[0m\u001b[37m\u001b[0m \u001b[1m372s\u001b[0m 12s/step - accuracy: 0.8412 - loss: 0.9415 - val_accuracy: 0.8917 - val_loss: 0.7865 - learning_rate: 1.0000e-04\n",
            "Epoch 15/20\n",
            "\u001b[1m31/31\u001b[0m \u001b[32m━━━━━━━━━━━━━━━━━━━━\u001b[0m\u001b[37m\u001b[0m \u001b[1m18s\u001b[0m 360ms/step - accuracy: 0.7188 - loss: 0.9711 - val_accuracy: 0.8500 - val_loss: 0.7844 - learning_rate: 1.0000e-04\n",
            "Epoch 16/20\n",
            "\u001b[1m31/31\u001b[0m \u001b[32m━━━━━━━━━━━━━━━━━━━━\u001b[0m\u001b[37m\u001b[0m \u001b[1m412s\u001b[0m 12s/step - accuracy: 0.8391 - loss: 0.9082 - val_accuracy: 0.8833 - val_loss: 0.8048 - learning_rate: 1.0000e-04\n",
            "Epoch 17/20\n",
            "\u001b[1m31/31\u001b[0m \u001b[32m━━━━━━━━━━━━━━━━━━━━\u001b[0m\u001b[37m\u001b[0m \u001b[1m367s\u001b[0m 12s/step - accuracy: 0.8143 - loss: 0.8976 - val_accuracy: 0.8813 - val_loss: 0.7689 - learning_rate: 1.0000e-04\n",
            "Epoch 18/20\n",
            "\u001b[1m31/31\u001b[0m \u001b[32m━━━━━━━━━━━━━━━━━━━━\u001b[0m\u001b[37m\u001b[0m \u001b[1m18s\u001b[0m 289ms/step - accuracy: 0.9062 - loss: 0.7521 - val_accuracy: 0.9000 - val_loss: 0.8719 - learning_rate: 1.0000e-04\n",
            "Epoch 19/20\n",
            "\u001b[1m31/31\u001b[0m \u001b[32m━━━━━━━━━━━━━━━━━━━━\u001b[0m\u001b[37m\u001b[0m \u001b[1m372s\u001b[0m 12s/step - accuracy: 0.8568 - loss: 0.8443 - val_accuracy: 0.9000 - val_loss: 0.7418 - learning_rate: 1.0000e-04\n",
            "Epoch 20/20\n",
            "\u001b[1m31/31\u001b[0m \u001b[32m━━━━━━━━━━━━━━━━━━━━\u001b[0m\u001b[37m\u001b[0m \u001b[1m370s\u001b[0m 12s/step - accuracy: 0.8234 - loss: 0.8646 - val_accuracy: 0.9083 - val_loss: 0.7233 - learning_rate: 1.0000e-04\n"
          ]
        }
      ]
    },
    {
      "cell_type": "code",
      "source": [
        "# Extract final metrics from the history object\n",
        "final_train_accuracy = history4.history['accuracy'][-1]\n",
        "final_train_loss = history4.history['loss'][-1]\n",
        "final_val_accuracy = history4.history['val_accuracy'][-1]\n",
        "final_val_loss = history4.history['val_loss'][-1]\n",
        "\n",
        "# Print the results\n",
        "print(f\"Final Training Accuracy: {final_train_accuracy:.4f}\")\n",
        "print(f\"Final Training Loss: {final_train_loss:.4f}\")\n",
        "print(f\"Final Validation Accuracy: {final_val_accuracy:.4f}\")\n",
        "print(f\"Final Validation Loss: {final_val_loss:.4f}\")\n"
      ],
      "metadata": {
        "colab": {
          "base_uri": "https://localhost:8080/"
        },
        "id": "O2zwq6AwCKGW",
        "outputId": "214afc9b-ad9c-40fc-86a9-b210f4c6a990"
      },
      "execution_count": 20,
      "outputs": [
        {
          "output_type": "stream",
          "name": "stdout",
          "text": [
            "Final Training Accuracy: 0.8438\n",
            "Final Training Loss: 0.8386\n",
            "Final Validation Accuracy: 0.9083\n",
            "Final Validation Loss: 0.7233\n"
          ]
        }
      ]
    },
    {
      "cell_type": "code",
      "source": [
        "# Unfreeze the last few layers for fine-tuning\n",
        "for layer in base_model.layers[-4:]:  # Unfreeze the last 4 layers\n",
        "    layer.trainable = True\n",
        "\n",
        "# Re-compile the model with a lower learning rate for fine-tuning\n",
        "model.compile(optimizer=Adam(learning_rate=1e-5), loss='binary_crossentropy', metrics=['accuracy'])\n"
      ],
      "metadata": {
        "id": "Cd0wsvNEaS-s"
      },
      "execution_count": 21,
      "outputs": []
    },
    {
      "cell_type": "code",
      "source": [
        "# Fine-tune the model\n",
        "history_finetune = model.fit(\n",
        "    train_generator,\n",
        "    steps_per_epoch=1000 // 32,\n",
        "    epochs=10,\n",
        "    validation_data=validation_generator,\n",
        "    validation_steps=500 // 32,\n",
        "    callbacks=callbacks\n",
        ")\n",
        ""
      ],
      "metadata": {
        "colab": {
          "base_uri": "https://localhost:8080/"
        },
        "id": "iuimww-UaXJy",
        "outputId": "6b366012-b929-4dd7-e347-58a8a2ff413a"
      },
      "execution_count": 22,
      "outputs": [
        {
          "output_type": "stream",
          "name": "stdout",
          "text": [
            "Epoch 1/10\n",
            "\u001b[1m31/31\u001b[0m \u001b[32m━━━━━━━━━━━━━━━━━━━━\u001b[0m\u001b[37m\u001b[0m \u001b[1m420s\u001b[0m 13s/step - accuracy: 0.8353 - loss: 0.8400 - val_accuracy: 0.8938 - val_loss: 0.7466 - learning_rate: 1.0000e-05\n",
            "Epoch 2/10\n",
            "\u001b[1m31/31\u001b[0m \u001b[32m━━━━━━━━━━━━━━━━━━━━\u001b[0m\u001b[37m\u001b[0m \u001b[1m412s\u001b[0m 13s/step - accuracy: 0.8641 - loss: 0.7815 - val_accuracy: 0.9167 - val_loss: 0.6788 - learning_rate: 1.0000e-05\n",
            "Epoch 3/10\n",
            "\u001b[1m31/31\u001b[0m \u001b[32m━━━━━━━━━━━━━━━━━━━━\u001b[0m\u001b[37m\u001b[0m \u001b[1m19s\u001b[0m 282ms/step - accuracy: 0.7500 - loss: 0.7724 - val_accuracy: 0.9000 - val_loss: 0.6875 - learning_rate: 1.0000e-05\n",
            "Epoch 4/10\n",
            "\u001b[1m31/31\u001b[0m \u001b[32m━━━━━━━━━━━━━━━━━━━━\u001b[0m\u001b[37m\u001b[0m \u001b[1m433s\u001b[0m 14s/step - accuracy: 0.8760 - loss: 0.7649 - val_accuracy: 0.8938 - val_loss: 0.6918 - learning_rate: 1.0000e-05\n",
            "Epoch 5/10\n",
            "\u001b[1m31/31\u001b[0m \u001b[32m━━━━━━━━━━━━━━━━━━━━\u001b[0m\u001b[37m\u001b[0m \u001b[1m440s\u001b[0m 14s/step - accuracy: 0.8881 - loss: 0.7320 - val_accuracy: 0.9146 - val_loss: 0.6772 - learning_rate: 1.0000e-05\n",
            "Epoch 6/10\n",
            "\u001b[1m31/31\u001b[0m \u001b[32m━━━━━━━━━━━━━━━━━━━━\u001b[0m\u001b[37m\u001b[0m \u001b[1m19s\u001b[0m 283ms/step - accuracy: 0.9375 - loss: 0.7855 - val_accuracy: 0.9250 - val_loss: 0.6385 - learning_rate: 1.0000e-05\n",
            "Epoch 7/10\n",
            "\u001b[1m31/31\u001b[0m \u001b[32m━━━━━━━━━━━━━━━━━━━━\u001b[0m\u001b[37m\u001b[0m \u001b[1m418s\u001b[0m 13s/step - accuracy: 0.8872 - loss: 0.7406 - val_accuracy: 0.8958 - val_loss: 0.7024 - learning_rate: 1.0000e-05\n",
            "Epoch 8/10\n",
            "\u001b[1m31/31\u001b[0m \u001b[32m━━━━━━━━━━━━━━━━━━━━\u001b[0m\u001b[37m\u001b[0m \u001b[1m415s\u001b[0m 13s/step - accuracy: 0.8871 - loss: 0.7303 - val_accuracy: 0.9229 - val_loss: 0.6211 - learning_rate: 1.0000e-05\n",
            "Epoch 9/10\n",
            "\u001b[1m31/31\u001b[0m \u001b[32m━━━━━━━━━━━━━━━━━━━━\u001b[0m\u001b[37m\u001b[0m \u001b[1m18s\u001b[0m 348ms/step - accuracy: 0.8125 - loss: 0.8315 - val_accuracy: 0.8500 - val_loss: 0.8243 - learning_rate: 1.0000e-05\n",
            "Epoch 10/10\n",
            "\u001b[1m31/31\u001b[0m \u001b[32m━━━━━━━━━━━━━━━━━━━━\u001b[0m\u001b[37m\u001b[0m \u001b[1m417s\u001b[0m 13s/step - accuracy: 0.8838 - loss: 0.7190 - val_accuracy: 0.9208 - val_loss: 0.6619 - learning_rate: 1.0000e-05\n"
          ]
        }
      ]
    },
    {
      "cell_type": "code",
      "source": [
        "# Extract final metrics from the history object\n",
        "final_train_accuracy = history_finetune.history['accuracy'][-1]\n",
        "final_train_loss = history_finetune.history['loss'][-1]\n",
        "final_val_accuracy = history_finetune.history['val_accuracy'][-1]\n",
        "final_val_loss = history_finetune.history['val_loss'][-1]\n",
        "\n",
        "# Print the results\n",
        "print(f\"Final Training Accuracy: {final_train_accuracy:.4f}\")\n",
        "print(f\"Final Training Loss: {final_train_loss:.4f}\")\n",
        "print(f\"Final Validation Accuracy: {final_val_accuracy:.4f}\")\n",
        "print(f\"Final Validation Loss: {final_val_loss:.4f}\")"
      ],
      "metadata": {
        "colab": {
          "base_uri": "https://localhost:8080/"
        },
        "id": "hpfhuhpfBcaV",
        "outputId": "8021d583-4572-48a3-a865-6716145eb50d"
      },
      "execution_count": 23,
      "outputs": [
        {
          "output_type": "stream",
          "name": "stdout",
          "text": [
            "Final Training Accuracy: 0.8945\n",
            "Final Training Loss: 0.7045\n",
            "Final Validation Accuracy: 0.9208\n",
            "Final Validation Loss: 0.6619\n"
          ]
        }
      ]
    },
    {
      "cell_type": "code",
      "source": [
        "# Evaluate the fine-tuned model on the test set\n",
        "test_loss, test_acc = model.evaluate(test_generator)\n",
        "print(f\"Test Accuracy with Fine-Tuning: {test_acc:.4f}\")\n"
      ],
      "metadata": {
        "colab": {
          "base_uri": "https://localhost:8080/"
        },
        "id": "00uZwzPZacBR",
        "outputId": "838cf85d-48a3-416e-fc5b-8fe3aca2ec2a"
      },
      "execution_count": 24,
      "outputs": [
        {
          "output_type": "stream",
          "name": "stdout",
          "text": [
            "\u001b[1m32/32\u001b[0m \u001b[32m━━━━━━━━━━━━━━━━━━━━\u001b[0m\u001b[37m\u001b[0m \u001b[1m250s\u001b[0m 8s/step - accuracy: 0.9229 - loss: 0.6440\n",
            "Test Accuracy with Fine-Tuning: 0.9119\n"
          ]
        }
      ]
    },
    {
      "cell_type": "code",
      "source": [
        "# Train the model with data augmentation and optimizations\n",
        "history41 = model.fit(\n",
        "    train_generator,\n",
        "    steps_per_epoch=1504 // 32,\n",
        "    epochs=20,\n",
        "    validation_data=validation_generator,\n",
        "    validation_steps=500 // 32,\n",
        "    callbacks=callbacks\n",
        ")"
      ],
      "metadata": {
        "colab": {
          "base_uri": "https://localhost:8080/"
        },
        "id": "-Pi8m2xl_JS0",
        "outputId": "0018c907-2de4-4e0d-b4b5-6897bdfb20c2"
      },
      "execution_count": 25,
      "outputs": [
        {
          "output_type": "stream",
          "name": "stdout",
          "text": [
            "Epoch 1/20\n",
            "\u001b[1m47/47\u001b[0m \u001b[32m━━━━━━━━━━━━━━━━━━━━\u001b[0m\u001b[37m\u001b[0m \u001b[1m570s\u001b[0m 12s/step - accuracy: 0.9012 - loss: 0.7071 - val_accuracy: 0.9271 - val_loss: 0.6402 - learning_rate: 1.0000e-05\n",
            "Epoch 2/20\n",
            "\u001b[1m47/47\u001b[0m \u001b[32m━━━━━━━━━━━━━━━━━━━━\u001b[0m\u001b[37m\u001b[0m \u001b[1m268s\u001b[0m 6s/step - accuracy: 0.9079 - loss: 0.6783 - val_accuracy: 0.9167 - val_loss: 0.6491 - learning_rate: 1.0000e-05\n",
            "Epoch 3/20\n",
            "\u001b[1m47/47\u001b[0m \u001b[32m━━━━━━━━━━━━━━━━━━━━\u001b[0m\u001b[37m\u001b[0m \u001b[1m462s\u001b[0m 10s/step - accuracy: 0.9027 - loss: 0.6795 - val_accuracy: 0.9250 - val_loss: 0.6090 - learning_rate: 1.0000e-05\n",
            "Epoch 4/20\n",
            "\u001b[1m47/47\u001b[0m \u001b[32m━━━━━━━━━━━━━━━━━━━━\u001b[0m\u001b[37m\u001b[0m \u001b[1m269s\u001b[0m 6s/step - accuracy: 0.8867 - loss: 0.6862 - val_accuracy: 0.9333 - val_loss: 0.6080 - learning_rate: 1.0000e-05\n",
            "Epoch 5/20\n",
            "\u001b[1m47/47\u001b[0m \u001b[32m━━━━━━━━━━━━━━━━━━━━\u001b[0m\u001b[37m\u001b[0m \u001b[1m572s\u001b[0m 12s/step - accuracy: 0.9182 - loss: 0.6465 - val_accuracy: 0.9250 - val_loss: 0.6584 - learning_rate: 1.0000e-05\n",
            "Epoch 6/20\n",
            "\u001b[1m47/47\u001b[0m \u001b[32m━━━━━━━━━━━━━━━━━━━━\u001b[0m\u001b[37m\u001b[0m \u001b[1m161s\u001b[0m 3s/step - accuracy: 0.9080 - loss: 0.6769 - val_accuracy: 0.9500 - val_loss: 0.5601 - learning_rate: 1.0000e-05\n",
            "Epoch 7/20\n",
            "\u001b[1m47/47\u001b[0m \u001b[32m━━━━━━━━━━━━━━━━━━━━\u001b[0m\u001b[37m\u001b[0m \u001b[1m588s\u001b[0m 12s/step - accuracy: 0.9169 - loss: 0.6427 - val_accuracy: 0.9167 - val_loss: 0.6381 - learning_rate: 1.0000e-05\n",
            "Epoch 8/20\n",
            "\u001b[1m47/47\u001b[0m \u001b[32m━━━━━━━━━━━━━━━━━━━━\u001b[0m\u001b[37m\u001b[0m \u001b[1m270s\u001b[0m 6s/step - accuracy: 0.9301 - loss: 0.6307 - val_accuracy: 0.9187 - val_loss: 0.6472 - learning_rate: 1.0000e-05\n",
            "Epoch 9/20\n",
            "\u001b[1m47/47\u001b[0m \u001b[32m━━━━━━━━━━━━━━━━━━━━\u001b[0m\u001b[37m\u001b[0m \u001b[1m531s\u001b[0m 11s/step - accuracy: 0.9230 - loss: 0.6362 - val_accuracy: 0.9750 - val_loss: 0.5121 - learning_rate: 1.0000e-05\n",
            "Epoch 10/20\n",
            "\u001b[1m47/47\u001b[0m \u001b[32m━━━━━━━━━━━━━━━━━━━━\u001b[0m\u001b[37m\u001b[0m \u001b[1m269s\u001b[0m 6s/step - accuracy: 0.9343 - loss: 0.5970 - val_accuracy: 0.9250 - val_loss: 0.6148 - learning_rate: 1.0000e-05\n",
            "Epoch 11/20\n",
            "\u001b[1m47/47\u001b[0m \u001b[32m━━━━━━━━━━━━━━━━━━━━\u001b[0m\u001b[37m\u001b[0m \u001b[1m590s\u001b[0m 12s/step - accuracy: 0.9451 - loss: 0.5795 - val_accuracy: 0.9229 - val_loss: 0.6071 - learning_rate: 1.0000e-05\n",
            "Epoch 12/20\n",
            "\u001b[1m47/47\u001b[0m \u001b[32m━━━━━━━━━━━━━━━━━━━━\u001b[0m\u001b[37m\u001b[0m \u001b[1m162s\u001b[0m 3s/step - accuracy: 0.9147 - loss: 0.6444 - val_accuracy: 0.9000 - val_loss: 0.6365 - learning_rate: 1.0000e-05\n",
            "Epoch 13/20\n",
            "\u001b[1m47/47\u001b[0m \u001b[32m━━━━━━━━━━━━━━━━━━━━\u001b[0m\u001b[37m\u001b[0m \u001b[1m576s\u001b[0m 12s/step - accuracy: 0.9156 - loss: 0.6114 - val_accuracy: 0.9187 - val_loss: 0.6367 - learning_rate: 2.0000e-06\n",
            "Epoch 14/20\n",
            "\u001b[1m47/47\u001b[0m \u001b[32m━━━━━━━━━━━━━━━━━━━━\u001b[0m\u001b[37m\u001b[0m \u001b[1m275s\u001b[0m 6s/step - accuracy: 0.9538 - loss: 0.5526 - val_accuracy: 0.9229 - val_loss: 0.6060 - learning_rate: 2.0000e-06\n"
          ]
        }
      ]
    },
    {
      "cell_type": "code",
      "source": [
        "# Extract final metrics from the history object\n",
        "final_train_accuracy = history41.history['accuracy'][-1]\n",
        "final_train_loss = history41.history['loss'][-1]\n",
        "final_val_accuracy = history41.history['val_accuracy'][-1]\n",
        "final_val_loss = history41.history['val_loss'][-1]\n",
        "\n",
        "# Print the results\n",
        "print(f\"Final Training Accuracy: {final_train_accuracy:.4f}\")\n",
        "print(f\"Final Training Loss: {final_train_loss:.4f}\")\n",
        "print(f\"Final Validation Accuracy: {final_val_accuracy:.4f}\")\n",
        "print(f\"Final Validation Loss: {final_val_loss:.4f}\")\n"
      ],
      "metadata": {
        "colab": {
          "base_uri": "https://localhost:8080/"
        },
        "id": "gWe7ZdmJB9s9",
        "outputId": "46a66771-24ad-4d4c-8c09-6e9db06a1c9b"
      },
      "execution_count": 26,
      "outputs": [
        {
          "output_type": "stream",
          "name": "stdout",
          "text": [
            "Final Training Accuracy: 0.9492\n",
            "Final Training Loss: 0.5582\n",
            "Final Validation Accuracy: 0.9229\n",
            "Final Validation Loss: 0.6060\n"
          ]
        }
      ]
    },
    {
      "cell_type": "code",
      "source": [
        "# Unfreeze the last few layers for fine-tuning\n",
        "for layer in base_model.layers[-4:]:  # Unfreeze the last 4 layers\n",
        "    layer.trainable = True\n",
        "\n",
        "# Re-compile the model with a lower learning rate for fine-tuning\n",
        "model.compile(optimizer=Adam(learning_rate=1e-5), loss='binary_crossentropy', metrics=['accuracy'])"
      ],
      "metadata": {
        "id": "4FstwLjRxMeT"
      },
      "execution_count": 27,
      "outputs": []
    },
    {
      "cell_type": "code",
      "source": [
        "# Fine-tune the model\n",
        "history_finetune1 = model.fit(\n",
        "    train_generator,\n",
        "    steps_per_epoch=1504 // 32,\n",
        "    epochs=10,\n",
        "    validation_data=validation_generator,\n",
        "    validation_steps=500 // 32,\n",
        "    callbacks=callbacks\n",
        ")"
      ],
      "metadata": {
        "colab": {
          "base_uri": "https://localhost:8080/"
        },
        "id": "shNLJrrVYZ4k",
        "outputId": "1860992f-149c-44e0-8bca-bde2f3458470"
      },
      "execution_count": 13,
      "outputs": [
        {
          "output_type": "stream",
          "name": "stdout",
          "text": [
            "Epoch 1/10\n"
          ]
        },
        {
          "output_type": "stream",
          "name": "stderr",
          "text": [
            "/usr/local/lib/python3.10/dist-packages/keras/src/trainers/data_adapters/py_dataset_adapter.py:121: UserWarning: Your `PyDataset` class should call `super().__init__(**kwargs)` in its constructor. `**kwargs` can include `workers`, `use_multiprocessing`, `max_queue_size`. Do not pass these arguments to `fit()`, as they will be ignored.\n",
            "  self._warn_if_super_not_called()\n"
          ]
        },
        {
          "output_type": "stream",
          "name": "stdout",
          "text": [
            "\u001b[1m47/47\u001b[0m \u001b[32m━━━━━━━━━━━━━━━━━━━━\u001b[0m\u001b[37m\u001b[0m \u001b[1m1553s\u001b[0m 29s/step - accuracy: 0.6202 - loss: 1.5796 - val_accuracy: 0.8438 - val_loss: 1.1862 - learning_rate: 1.0000e-04\n",
            "Epoch 2/10\n",
            "\u001b[1m16/47\u001b[0m \u001b[32m━━━━━━\u001b[0m\u001b[37m━━━━━━━━━━━━━━\u001b[0m \u001b[1m46s\u001b[0m 2s/step - accuracy: 0.7547 - loss: 1.3061"
          ]
        },
        {
          "output_type": "stream",
          "name": "stderr",
          "text": [
            "/usr/lib/python3.10/contextlib.py:153: UserWarning: Your input ran out of data; interrupting training. Make sure that your dataset or generator can generate at least `steps_per_epoch * epochs` batches. You may need to use the `.repeat()` function when building your dataset.\n",
            "  self.gen.throw(typ, value, traceback)\n"
          ]
        },
        {
          "output_type": "stream",
          "name": "stdout",
          "text": [
            "\b\b\b\b\b\b\b\b\b\b\b\b\b\b\b\b\b\b\b\b\b\b\b\b\b\b\b\b\b\b\b\b\b\b\b\b\b\b\b\b\b\b\b\b\b\b\b\b\b\b\b\b\b\b\b\b\b\b\b\b\b\b\b\b\b\b\b\b\b\b\b\b\r\u001b[1m47/47\u001b[0m \u001b[32m━━━━━━━━━━━━━━━━━━━━\u001b[0m\u001b[37m\u001b[0m \u001b[1m192s\u001b[0m 4s/step - accuracy: 0.7632 - loss: 1.2918 - val_accuracy: 0.8771 - val_loss: 1.1292 - learning_rate: 1.0000e-04\n",
            "Epoch 3/10\n",
            "\u001b[1m47/47\u001b[0m \u001b[32m━━━━━━━━━━━━━━━━━━━━\u001b[0m\u001b[37m\u001b[0m \u001b[1m167s\u001b[0m 3s/step - accuracy: 0.7652 - loss: 1.2389 - val_accuracy: 0.8250 - val_loss: 1.0125 - learning_rate: 1.0000e-04\n",
            "Epoch 4/10\n",
            "\u001b[1m47/47\u001b[0m \u001b[32m━━━━━━━━━━━━━━━━━━━━\u001b[0m\u001b[37m\u001b[0m \u001b[1m95s\u001b[0m 2s/step - accuracy: 0.8156 - loss: 1.0945 - val_accuracy: 0.8896 - val_loss: 0.9718 - learning_rate: 1.0000e-04\n",
            "Epoch 5/10\n",
            "\u001b[1m47/47\u001b[0m \u001b[32m━━━━━━━━━━━━━━━━━━━━\u001b[0m\u001b[37m\u001b[0m \u001b[1m69s\u001b[0m 1s/step - accuracy: 0.8087 - loss: 1.0807 - val_accuracy: 0.8938 - val_loss: 0.8679 - learning_rate: 1.0000e-04\n",
            "Epoch 6/10\n",
            "\u001b[1m47/47\u001b[0m \u001b[32m━━━━━━━━━━━━━━━━━━━━\u001b[0m\u001b[37m\u001b[0m \u001b[1m4s\u001b[0m 75ms/step - accuracy: 0.8210 - loss: 0.9796 - val_accuracy: 0.9000 - val_loss: 0.8120 - learning_rate: 1.0000e-04\n",
            "Epoch 7/10\n",
            "\u001b[1m47/47\u001b[0m \u001b[32m━━━━━━━━━━━━━━━━━━━━\u001b[0m\u001b[37m\u001b[0m \u001b[1m53s\u001b[0m 842ms/step - accuracy: 0.8270 - loss: 0.9535 - val_accuracy: 0.8875 - val_loss: 0.8456 - learning_rate: 1.0000e-04\n",
            "Epoch 8/10\n",
            "\u001b[1m47/47\u001b[0m \u001b[32m━━━━━━━━━━━━━━━━━━━━\u001b[0m\u001b[37m\u001b[0m \u001b[1m10s\u001b[0m 220ms/step - accuracy: 0.8218 - loss: 0.9389 - val_accuracy: 0.8875 - val_loss: 0.8286 - learning_rate: 1.0000e-04\n",
            "Epoch 9/10\n",
            "\u001b[1m47/47\u001b[0m \u001b[32m━━━━━━━━━━━━━━━━━━━━\u001b[0m\u001b[37m\u001b[0m \u001b[1m20s\u001b[0m 365ms/step - accuracy: 0.8074 - loss: 0.9468 - val_accuracy: 0.8750 - val_loss: 0.7181 - learning_rate: 1.0000e-04\n",
            "Epoch 10/10\n",
            "\u001b[1m47/47\u001b[0m \u001b[32m━━━━━━━━━━━━━━━━━━━━\u001b[0m\u001b[37m\u001b[0m \u001b[1m9s\u001b[0m 196ms/step - accuracy: 0.8597 - loss: 0.8386 - val_accuracy: 0.8979 - val_loss: 0.7542 - learning_rate: 1.0000e-04\n"
          ]
        }
      ]
    },
    {
      "cell_type": "code",
      "source": [
        "# Extract final metrics from the history object\n",
        "final_train_accuracy = history_finetune1.history['accuracy'][-1]\n",
        "final_train_loss = history_finetune1.history['loss'][-1]\n",
        "final_val_accuracy = history_finetune1.history['val_accuracy'][-1]\n",
        "final_val_loss = history_finetune1.history['val_loss'][-1]\n",
        "\n",
        "# Print the results\n",
        "print(f\"Final Training Accuracy: {final_train_accuracy:.4f}\")\n",
        "print(f\"Final Training Loss: {final_train_loss:.4f}\")\n",
        "print(f\"Final Validation Accuracy: {final_val_accuracy:.4f}\")\n",
        "print(f\"Final Validation Loss: {final_val_loss:.4f}\")"
      ],
      "metadata": {
        "colab": {
          "base_uri": "https://localhost:8080/"
        },
        "id": "CH9-F0vjBUud",
        "outputId": "181de9a4-8849-46aa-fcab-8dca9930da10"
      },
      "execution_count": 14,
      "outputs": [
        {
          "output_type": "stream",
          "name": "stdout",
          "text": [
            "Final Training Accuracy: 0.8594\n",
            "Final Training Loss: 0.8385\n",
            "Final Validation Accuracy: 0.8979\n",
            "Final Validation Loss: 0.7542\n"
          ]
        }
      ]
    },
    {
      "cell_type": "code",
      "source": [
        "# Evaluate the fine-tuned model on the test set\n",
        "test_loss, test_acc = model.evaluate(test_generator)\n",
        "print(f\"Test Accuracy with Fine-Tuning: {test_acc:.4f}\")"
      ],
      "metadata": {
        "colab": {
          "base_uri": "https://localhost:8080/"
        },
        "id": "6RgPwLpJzjFL",
        "outputId": "3a0f5644-5dea-4fd2-955b-54692b113fb8"
      },
      "execution_count": 15,
      "outputs": [
        {
          "output_type": "stream",
          "name": "stdout",
          "text": [
            "\u001b[1m32/32\u001b[0m \u001b[32m━━━━━━━━━━━━━━━━━━━━\u001b[0m\u001b[37m\u001b[0m \u001b[1m726s\u001b[0m 23s/step - accuracy: 0.8922 - loss: 0.7826\n",
            "Test Accuracy with Fine-Tuning: 0.8861\n"
          ]
        }
      ]
    },
    {
      "cell_type": "code",
      "source": [
        "# Train the model with data augmentation and optimizations\n",
        "history42 = model.fit(\n",
        "    train_generator,\n",
        "    steps_per_epoch=1600 // 32,\n",
        "    epochs=20,\n",
        "    validation_data=validation_generator,\n",
        "    validation_steps=500 // 32,\n",
        "    callbacks=callbacks\n",
        ")"
      ],
      "metadata": {
        "colab": {
          "base_uri": "https://localhost:8080/"
        },
        "id": "s3xrVFsR080L",
        "outputId": "227c8e27-a372-4ec3-f9d8-9108567b9f74"
      },
      "execution_count": 16,
      "outputs": [
        {
          "output_type": "stream",
          "name": "stdout",
          "text": [
            "Epoch 1/20\n",
            "\u001b[1m50/50\u001b[0m \u001b[32m━━━━━━━━━━━━━━━━━━━━\u001b[0m\u001b[37m\u001b[0m \u001b[1m25s\u001b[0m 459ms/step - accuracy: 0.8435 - loss: 0.8611 - val_accuracy: 0.8979 - val_loss: 0.7524 - learning_rate: 1.0000e-04\n",
            "Epoch 2/20\n",
            "\u001b[1m50/50\u001b[0m \u001b[32m━━━━━━━━━━━━━━━━━━━━\u001b[0m\u001b[37m\u001b[0m \u001b[1m5s\u001b[0m 95ms/step - accuracy: 0.8459 - loss: 0.8434 - val_accuracy: 0.8771 - val_loss: 0.7747 - learning_rate: 1.0000e-04\n",
            "Epoch 3/20\n",
            "\u001b[1m50/50\u001b[0m \u001b[32m━━━━━━━━━━━━━━━━━━━━\u001b[0m\u001b[37m\u001b[0m \u001b[1m19s\u001b[0m 340ms/step - accuracy: 0.8360 - loss: 0.8499 - val_accuracy: 0.9250 - val_loss: 0.7267 - learning_rate: 1.0000e-04\n",
            "Epoch 4/20\n",
            "\u001b[1m50/50\u001b[0m \u001b[32m━━━━━━━━━━━━━━━━━━━━\u001b[0m\u001b[37m\u001b[0m \u001b[1m7s\u001b[0m 128ms/step - accuracy: 0.8547 - loss: 0.8297 - val_accuracy: 0.8958 - val_loss: 0.7078 - learning_rate: 1.0000e-04\n",
            "Epoch 5/20\n",
            "\u001b[1m50/50\u001b[0m \u001b[32m━━━━━━━━━━━━━━━━━━━━\u001b[0m\u001b[37m\u001b[0m \u001b[1m22s\u001b[0m 396ms/step - accuracy: 0.8552 - loss: 0.7833 - val_accuracy: 0.8979 - val_loss: 0.6735 - learning_rate: 1.0000e-04\n",
            "Epoch 6/20\n",
            "\u001b[1m50/50\u001b[0m \u001b[32m━━━━━━━━━━━━━━━━━━━━\u001b[0m\u001b[37m\u001b[0m \u001b[1m3s\u001b[0m 51ms/step - accuracy: 0.8392 - loss: 0.7977 - val_accuracy: 0.8500 - val_loss: 0.6893 - learning_rate: 1.0000e-04\n",
            "Epoch 7/20\n",
            "\u001b[1m50/50\u001b[0m \u001b[32m━━━━━━━━━━━━━━━━━━━━\u001b[0m\u001b[37m\u001b[0m \u001b[1m22s\u001b[0m 404ms/step - accuracy: 0.8398 - loss: 0.7946 - val_accuracy: 0.8792 - val_loss: 0.6958 - learning_rate: 1.0000e-04\n",
            "Epoch 8/20\n",
            "\u001b[1m50/50\u001b[0m \u001b[32m━━━━━━━━━━━━━━━━━━━━\u001b[0m\u001b[37m\u001b[0m \u001b[1m4s\u001b[0m 85ms/step - accuracy: 0.8522 - loss: 0.7766 - val_accuracy: 0.9021 - val_loss: 0.6570 - learning_rate: 1.0000e-04\n",
            "Epoch 9/20\n",
            "\u001b[1m50/50\u001b[0m \u001b[32m━━━━━━━━━━━━━━━━━━━━\u001b[0m\u001b[37m\u001b[0m \u001b[1m33s\u001b[0m 613ms/step - accuracy: 0.8522 - loss: 0.7542 - val_accuracy: 0.8500 - val_loss: 0.7640 - learning_rate: 1.0000e-04\n",
            "Epoch 10/20\n",
            "\u001b[1m50/50\u001b[0m \u001b[32m━━━━━━━━━━━━━━━━━━━━\u001b[0m\u001b[37m\u001b[0m \u001b[1m4s\u001b[0m 80ms/step - accuracy: 0.8529 - loss: 0.7363 - val_accuracy: 0.9000 - val_loss: 0.6564 - learning_rate: 1.0000e-04\n",
            "Epoch 11/20\n",
            "\u001b[1m50/50\u001b[0m \u001b[32m━━━━━━━━━━━━━━━━━━━━\u001b[0m\u001b[37m\u001b[0m \u001b[1m26s\u001b[0m 387ms/step - accuracy: 0.8442 - loss: 0.7371 - val_accuracy: 0.8729 - val_loss: 0.6528 - learning_rate: 1.0000e-04\n",
            "Epoch 12/20\n",
            "\u001b[1m50/50\u001b[0m \u001b[32m━━━━━━━━━━━━━━━━━━━━\u001b[0m\u001b[37m\u001b[0m \u001b[1m2s\u001b[0m 40ms/step - accuracy: 0.8501 - loss: 0.7278 - val_accuracy: 0.9250 - val_loss: 0.6055 - learning_rate: 1.0000e-04\n",
            "Epoch 13/20\n",
            "\u001b[1m50/50\u001b[0m \u001b[32m━━━━━━━━━━━━━━━━━━━━\u001b[0m\u001b[37m\u001b[0m \u001b[1m39s\u001b[0m 388ms/step - accuracy: 0.8648 - loss: 0.7042 - val_accuracy: 0.8813 - val_loss: 0.6647 - learning_rate: 1.0000e-04\n",
            "Epoch 14/20\n",
            "\u001b[1m50/50\u001b[0m \u001b[32m━━━━━━━━━━━━━━━━━━━━\u001b[0m\u001b[37m\u001b[0m \u001b[1m4s\u001b[0m 79ms/step - accuracy: 0.8420 - loss: 0.7422 - val_accuracy: 0.9062 - val_loss: 0.6032 - learning_rate: 1.0000e-04\n",
            "Epoch 15/20\n",
            "\u001b[1m50/50\u001b[0m \u001b[32m━━━━━━━━━━━━━━━━━━━━\u001b[0m\u001b[37m\u001b[0m \u001b[1m21s\u001b[0m 349ms/step - accuracy: 0.8775 - loss: 0.6790 - val_accuracy: 0.9250 - val_loss: 0.4742 - learning_rate: 1.0000e-04\n",
            "Epoch 16/20\n",
            "\u001b[1m50/50\u001b[0m \u001b[32m━━━━━━━━━━━━━━━━━━━━\u001b[0m\u001b[37m\u001b[0m \u001b[1m4s\u001b[0m 86ms/step - accuracy: 0.8425 - loss: 0.7272 - val_accuracy: 0.8896 - val_loss: 0.6119 - learning_rate: 1.0000e-04\n",
            "Epoch 17/20\n",
            "\u001b[1m50/50\u001b[0m \u001b[32m━━━━━━━━━━━━━━━━━━━━\u001b[0m\u001b[37m\u001b[0m \u001b[1m38s\u001b[0m 387ms/step - accuracy: 0.8486 - loss: 0.7024 - val_accuracy: 0.8896 - val_loss: 0.5875 - learning_rate: 1.0000e-04\n",
            "Epoch 18/20\n",
            "\u001b[1m50/50\u001b[0m \u001b[32m━━━━━━━━━━━━━━━━━━━━\u001b[0m\u001b[37m\u001b[0m \u001b[1m2s\u001b[0m 38ms/step - accuracy: 0.8650 - loss: 0.6314 - val_accuracy: 0.8500 - val_loss: 0.7705 - learning_rate: 1.0000e-04\n",
            "Epoch 19/20\n",
            "\u001b[1m50/50\u001b[0m \u001b[32m━━━━━━━━━━━━━━━━━━━━\u001b[0m\u001b[37m\u001b[0m \u001b[1m38s\u001b[0m 374ms/step - accuracy: 0.8595 - loss: 0.6467 - val_accuracy: 0.9187 - val_loss: 0.5599 - learning_rate: 2.0000e-05\n",
            "Epoch 20/20\n",
            "\u001b[1m50/50\u001b[0m \u001b[32m━━━━━━━━━━━━━━━━━━━━\u001b[0m\u001b[37m\u001b[0m \u001b[1m4s\u001b[0m 75ms/step - accuracy: 0.8612 - loss: 0.6588 - val_accuracy: 0.9000 - val_loss: 0.5620 - learning_rate: 2.0000e-05\n"
          ]
        }
      ]
    },
    {
      "cell_type": "code",
      "source": [
        "# Extract final metrics from the history object\n",
        "final_train_accuracy = history42.history['accuracy'][-1]\n",
        "final_train_loss = history42.history['loss'][-1]\n",
        "final_val_accuracy = history42.history['val_accuracy'][-1]\n",
        "final_val_loss = history42.history['val_loss'][-1]\n",
        "\n",
        "# Print the results\n",
        "print(f\"Final Training Accuracy: {final_train_accuracy:.4f}\")\n",
        "print(f\"Final Training Loss: {final_train_loss:.4f}\")\n",
        "print(f\"Final Validation Accuracy: {final_val_accuracy:.4f}\")\n",
        "print(f\"Final Validation Loss: {final_val_loss:.4f}\")\n"
      ],
      "metadata": {
        "colab": {
          "base_uri": "https://localhost:8080/"
        },
        "id": "OaG1EGY12wRk",
        "outputId": "6d4e7e16-0c09-46b2-b55c-5ac7d4e00d13"
      },
      "execution_count": 17,
      "outputs": [
        {
          "output_type": "stream",
          "name": "stdout",
          "text": [
            "Final Training Accuracy: 0.8630\n",
            "Final Training Loss: 0.6618\n",
            "Final Validation Accuracy: 0.9000\n",
            "Final Validation Loss: 0.5620\n"
          ]
        }
      ]
    },
    {
      "cell_type": "code",
      "source": [
        "# Unfreeze the last few layers for fine-tuning\n",
        "for layer in base_model.layers[-4:]:  # Unfreeze the last 4 layers\n",
        "    layer.trainable = True\n",
        "\n",
        "# Re-compile the model with a lower learning rate for fine-tuning\n",
        "model.compile(optimizer=Adam(learning_rate=1e-5), loss='binary_crossentropy', metrics=['accuracy'])"
      ],
      "metadata": {
        "id": "THbP311K3rQk"
      },
      "execution_count": 18,
      "outputs": []
    },
    {
      "cell_type": "code",
      "source": [
        "# Fine-tune the model\n",
        "history_finetune2 = model.fit(\n",
        "    train_generator,\n",
        "    steps_per_epoch=1600 // 32,\n",
        "    epochs=10,\n",
        "    validation_data=validation_generator,\n",
        "    validation_steps=500 // 32,\n",
        "    callbacks=callbacks\n",
        "    )\n",
        "\n",
        "\n"
      ],
      "metadata": {
        "colab": {
          "base_uri": "https://localhost:8080/"
        },
        "id": "F1hMggXl33Em",
        "outputId": "df96a2ff-b683-494c-d6fd-22d259badc9b"
      },
      "execution_count": 19,
      "outputs": [
        {
          "output_type": "stream",
          "name": "stdout",
          "text": [
            "Epoch 1/10\n",
            "\u001b[1m50/50\u001b[0m \u001b[32m━━━━━━━━━━━━━━━━━━━━\u001b[0m\u001b[37m\u001b[0m \u001b[1m28s\u001b[0m 407ms/step - accuracy: 0.8580 - loss: 0.6829 - val_accuracy: 0.9021 - val_loss: 0.5900 - learning_rate: 1.0000e-05\n",
            "Epoch 2/10\n",
            "\u001b[1m50/50\u001b[0m \u001b[32m━━━━━━━━━━━━━━━━━━━━\u001b[0m\u001b[37m\u001b[0m \u001b[1m7s\u001b[0m 147ms/step - accuracy: 0.8922 - loss: 0.5962 - val_accuracy: 0.8583 - val_loss: 0.6977 - learning_rate: 1.0000e-05\n",
            "Epoch 3/10\n",
            "\u001b[1m50/50\u001b[0m \u001b[32m━━━━━━━━━━━━━━━━━━━━\u001b[0m\u001b[37m\u001b[0m \u001b[1m27s\u001b[0m 341ms/step - accuracy: 0.8719 - loss: 0.6660 - val_accuracy: 0.9250 - val_loss: 0.5222 - learning_rate: 1.0000e-05\n",
            "Epoch 4/10\n",
            "\u001b[1m50/50\u001b[0m \u001b[32m━━━━━━━━━━━━━━━━━━━━\u001b[0m\u001b[37m\u001b[0m \u001b[1m4s\u001b[0m 83ms/step - accuracy: 0.8874 - loss: 0.6141 - val_accuracy: 0.9271 - val_loss: 0.5544 - learning_rate: 1.0000e-05\n",
            "Epoch 5/10\n",
            "\u001b[1m50/50\u001b[0m \u001b[32m━━━━━━━━━━━━━━━━━━━━\u001b[0m\u001b[37m\u001b[0m \u001b[1m38s\u001b[0m 373ms/step - accuracy: 0.9038 - loss: 0.5765 - val_accuracy: 0.9042 - val_loss: 0.5700 - learning_rate: 1.0000e-05\n"
          ]
        }
      ]
    },
    {
      "cell_type": "code",
      "source": [
        "# Extract final metrics from the history object\n",
        "final_train_accuracy = history_finetune2.history['accuracy'][-1]\n",
        "final_train_loss = history_finetune2.history['loss'][-1]\n",
        "final_val_accuracy = history_finetune2.history['val_accuracy'][-1]\n",
        "final_val_loss = history_finetune2.history['val_loss'][-1]\n",
        "\n",
        "# Print the results\n",
        "print(f\"Final Training Accuracy: {final_train_accuracy:.4f}\")\n",
        "print(f\"Final Training Loss: {final_train_loss:.4f}\")\n",
        "print(f\"Final Validation Accuracy: {final_val_accuracy:.4f}\")\n",
        "print(f\"Final Validation Loss: {final_val_loss:.4f}\")"
      ],
      "metadata": {
        "colab": {
          "base_uri": "https://localhost:8080/"
        },
        "id": "D506UCeDAb0m",
        "outputId": "51629d1e-07e2-4769-a387-161769ec4596"
      },
      "execution_count": 20,
      "outputs": [
        {
          "output_type": "stream",
          "name": "stdout",
          "text": [
            "Final Training Accuracy: 0.8946\n",
            "Final Training Loss: 0.6032\n",
            "Final Validation Accuracy: 0.9042\n",
            "Final Validation Loss: 0.5700\n"
          ]
        }
      ]
    },
    {
      "cell_type": "code",
      "source": [
        "# Evaluate the fine-tuned model on the test set\n",
        "test_loss, test_acc = model.evaluate(test_generator)\n",
        "print(f\"Test Accuracy with Fine-Tuning: {test_acc:.4f}\")"
      ],
      "metadata": {
        "colab": {
          "base_uri": "https://localhost:8080/"
        },
        "id": "mqIcCN9O8u8h",
        "outputId": "487ae936-a975-4835-fba7-d78788e0cedb"
      },
      "execution_count": 21,
      "outputs": [
        {
          "output_type": "stream",
          "name": "stdout",
          "text": [
            "\u001b[1m32/32\u001b[0m \u001b[32m━━━━━━━━━━━━━━━━━━━━\u001b[0m\u001b[37m\u001b[0m \u001b[1m6s\u001b[0m 183ms/step - accuracy: 0.9105 - loss: 0.5794\n",
            "Test Accuracy with Fine-Tuning: 0.9040\n"
          ]
        }
      ]
    }
  ]
}